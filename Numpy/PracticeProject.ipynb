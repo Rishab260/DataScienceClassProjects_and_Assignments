{
 "cells": [
  {
   "cell_type": "code",
   "execution_count": 1,
   "id": "9d0d600f",
   "metadata": {},
   "outputs": [],
   "source": [
    "#import numpy \n",
    "import numpy as np"
   ]
  },
  {
   "cell_type": "code",
   "execution_count": 9,
   "id": "159db486",
   "metadata": {},
   "outputs": [
    {
     "name": "stdout",
     "output_type": "stream",
     "text": [
      "10 20 30 40 50 60 70 80 90\n"
     ]
    }
   ],
   "source": [
    "#create a new numpy array taking input from user\n",
    "a = np.array([x for x in input().split()])"
   ]
  },
  {
   "cell_type": "code",
   "execution_count": 5,
   "id": "38967f2e",
   "metadata": {},
   "outputs": [
    {
     "name": "stdout",
     "output_type": "stream",
     "text": [
      "['10' '20' '30' '40' '50' '60' '70' '80' '90'] 9\n"
     ]
    }
   ],
   "source": [
    "print(a, len(a))"
   ]
  },
  {
   "cell_type": "code",
   "execution_count": 8,
   "id": "c1c2e392",
   "metadata": {},
   "outputs": [
    {
     "name": "stdout",
     "output_type": "stream",
     "text": [
      "20 30 50 70 80\n",
      "[20 30 50 70 80]\n"
     ]
    }
   ],
   "source": [
    "print(np.array(list(map(int,input().split()))))"
   ]
  },
  {
   "cell_type": "code",
   "execution_count": 10,
   "id": "f6c079d9",
   "metadata": {},
   "outputs": [
    {
     "data": {
      "text/plain": [
       "array([0., 0., 0., 0., 0., 0., 0., 0., 0., 0.])"
      ]
     },
     "execution_count": 10,
     "metadata": {},
     "output_type": "execute_result"
    }
   ],
   "source": [
    "np.zeros(10)"
   ]
  },
  {
   "cell_type": "code",
   "execution_count": 11,
   "id": "c98d22bb",
   "metadata": {},
   "outputs": [
    {
     "data": {
      "text/plain": [
       "array([1., 1., 1., 1., 1., 1., 1., 1., 1., 1.])"
      ]
     },
     "execution_count": 11,
     "metadata": {},
     "output_type": "execute_result"
    }
   ],
   "source": [
    "np.ones(10)"
   ]
  },
  {
   "cell_type": "code",
   "execution_count": 12,
   "id": "6b780288",
   "metadata": {},
   "outputs": [
    {
     "data": {
      "text/plain": [
       "array([ 0,  1,  2,  3,  4,  5,  6,  7,  8,  9, 10, 11, 12, 13, 14, 15, 16,\n",
       "       17, 18, 19, 20, 21, 22, 23, 24, 25, 26, 27, 28, 29, 30, 31, 32, 33,\n",
       "       34, 35, 36, 37, 38, 39, 40, 41, 42, 43, 44, 45, 46, 47, 48, 49, 50,\n",
       "       51, 52, 53, 54, 55, 56, 57, 58, 59, 60, 61, 62, 63, 64, 65, 66, 67,\n",
       "       68, 69, 70, 71, 72, 73, 74, 75, 76, 77, 78, 79, 80, 81, 82, 83, 84,\n",
       "       85, 86, 87, 88, 89, 90, 91, 92, 93, 94, 95, 96, 97, 98, 99])"
      ]
     },
     "execution_count": 12,
     "metadata": {},
     "output_type": "execute_result"
    }
   ],
   "source": [
    "#\n",
    "np.arange(0,100)"
   ]
  },
  {
   "cell_type": "code",
   "execution_count": 15,
   "id": "3c022a8e",
   "metadata": {},
   "outputs": [
    {
     "data": {
      "text/plain": [
       "array([ 10.        ,  11.83673469,  13.67346939,  15.51020408,\n",
       "        17.34693878,  19.18367347,  21.02040816,  22.85714286,\n",
       "        24.69387755,  26.53061224,  28.36734694,  30.20408163,\n",
       "        32.04081633,  33.87755102,  35.71428571,  37.55102041,\n",
       "        39.3877551 ,  41.2244898 ,  43.06122449,  44.89795918,\n",
       "        46.73469388,  48.57142857,  50.40816327,  52.24489796,\n",
       "        54.08163265,  55.91836735,  57.75510204,  59.59183673,\n",
       "        61.42857143,  63.26530612,  65.10204082,  66.93877551,\n",
       "        68.7755102 ,  70.6122449 ,  72.44897959,  74.28571429,\n",
       "        76.12244898,  77.95918367,  79.79591837,  81.63265306,\n",
       "        83.46938776,  85.30612245,  87.14285714,  88.97959184,\n",
       "        90.81632653,  92.65306122,  94.48979592,  96.32653061,\n",
       "        98.16326531, 100.        ])"
      ]
     },
     "execution_count": 15,
     "metadata": {},
     "output_type": "execute_result"
    }
   ],
   "source": [
    "np.linspace(10,100)"
   ]
  },
  {
   "cell_type": "code",
   "execution_count": null,
   "id": "f6df72d6",
   "metadata": {},
   "outputs": [],
   "source": []
  },
  {
   "cell_type": "code",
   "execution_count": 18,
   "id": "8cb87227",
   "metadata": {},
   "outputs": [
    {
     "data": {
      "text/plain": [
       "(array([ 10.        ,  11.83673469,  13.67346939,  15.51020408,\n",
       "         17.34693878,  19.18367347,  21.02040816,  22.85714286,\n",
       "         24.69387755,  26.53061224,  28.36734694,  30.20408163,\n",
       "         32.04081633,  33.87755102,  35.71428571,  37.55102041,\n",
       "         39.3877551 ,  41.2244898 ,  43.06122449,  44.89795918,\n",
       "         46.73469388,  48.57142857,  50.40816327,  52.24489796,\n",
       "         54.08163265,  55.91836735,  57.75510204,  59.59183673,\n",
       "         61.42857143,  63.26530612,  65.10204082,  66.93877551,\n",
       "         68.7755102 ,  70.6122449 ,  72.44897959,  74.28571429,\n",
       "         76.12244898,  77.95918367,  79.79591837,  81.63265306,\n",
       "         83.46938776,  85.30612245,  87.14285714,  88.97959184,\n",
       "         90.81632653,  92.65306122,  94.48979592,  96.32653061,\n",
       "         98.16326531, 100.        ]),\n",
       " 1.836734693877551)"
      ]
     },
     "execution_count": 18,
     "metadata": {},
     "output_type": "execute_result"
    }
   ],
   "source": [
    "np.linspace(10,100,retstep=True)"
   ]
  },
  {
   "cell_type": "code",
   "execution_count": 19,
   "id": "dba21aa1",
   "metadata": {},
   "outputs": [
    {
     "data": {
      "text/plain": [
       "array([ 0. ,  2.5,  5. ,  7.5, 10. ])"
      ]
     },
     "execution_count": 19,
     "metadata": {},
     "output_type": "execute_result"
    }
   ],
   "source": [
    "np.linspace(0,10,num=5)"
   ]
  },
  {
   "cell_type": "code",
   "execution_count": 11,
   "id": "2bed817d",
   "metadata": {},
   "outputs": [],
   "source": [
    "x = np.ones(2, dtype=np.int64)"
   ]
  },
  {
   "cell_type": "code",
   "execution_count": 12,
   "id": "e72cf10d",
   "metadata": {},
   "outputs": [
    {
     "data": {
      "text/plain": [
       "array([1, 1], dtype=int64)"
      ]
     },
     "execution_count": 12,
     "metadata": {},
     "output_type": "execute_result"
    }
   ],
   "source": [
    "x"
   ]
  },
  {
   "cell_type": "code",
   "execution_count": 7,
   "id": "26cdfe0e",
   "metadata": {},
   "outputs": [
    {
     "data": {
      "text/plain": [
       "array([ 2, 22, 23, 31, 45, 78])"
      ]
     },
     "execution_count": 7,
     "metadata": {},
     "output_type": "execute_result"
    }
   ],
   "source": [
    "np.sort(np.array([2,31,45,22,23,78\n",
    "                 ]))"
   ]
  },
  {
   "cell_type": "code",
   "execution_count": 14,
   "id": "ffd7acd2",
   "metadata": {},
   "outputs": [
    {
     "data": {
      "text/plain": [
       "array(['1', '1', '10', '20', '30', '40', '50', '60', '70', '80', '90'],\n",
       "      dtype='<U21')"
      ]
     },
     "execution_count": 14,
     "metadata": {},
     "output_type": "execute_result"
    }
   ],
   "source": [
    "np.concatenate((x,a),axis=0)"
   ]
  },
  {
   "cell_type": "code",
   "execution_count": 3,
   "id": "a51b9f5f",
   "metadata": {},
   "outputs": [],
   "source": [
    "y = np.arange(0,100)"
   ]
  },
  {
   "cell_type": "code",
   "execution_count": 4,
   "id": "f3dba1f9",
   "metadata": {},
   "outputs": [
    {
     "data": {
      "text/plain": [
       "array([ 0,  1,  2,  3,  4,  5,  6,  7,  8,  9, 10, 11, 12, 13, 14, 15, 16,\n",
       "       17, 18, 19, 20, 21, 22, 23, 24, 25, 26, 27, 28, 29, 30, 31, 32, 33,\n",
       "       34, 35, 36, 37, 38, 39, 40, 41, 42, 43, 44, 45, 46, 47, 48, 49, 50,\n",
       "       51, 52, 53, 54, 55, 56, 57, 58, 59, 60, 61, 62, 63, 64, 65, 66, 67,\n",
       "       68, 69, 70, 71, 72, 73, 74, 75, 76, 77, 78, 79, 80, 81, 82, 83, 84,\n",
       "       85, 86, 87, 88, 89, 90, 91, 92, 93, 94, 95, 96, 97, 98, 99])"
      ]
     },
     "execution_count": 4,
     "metadata": {},
     "output_type": "execute_result"
    }
   ],
   "source": [
    "y"
   ]
  },
  {
   "cell_type": "code",
   "execution_count": 6,
   "id": "acd85646",
   "metadata": {},
   "outputs": [],
   "source": [
    "y = np.reshape(np.arange(0,100),(10,10))"
   ]
  },
  {
   "cell_type": "code",
   "execution_count": 7,
   "id": "d4bb3000",
   "metadata": {},
   "outputs": [
    {
     "data": {
      "text/plain": [
       "array([[ 0,  1,  2,  3,  4,  5,  6,  7,  8,  9],\n",
       "       [10, 11, 12, 13, 14, 15, 16, 17, 18, 19],\n",
       "       [20, 21, 22, 23, 24, 25, 26, 27, 28, 29],\n",
       "       [30, 31, 32, 33, 34, 35, 36, 37, 38, 39],\n",
       "       [40, 41, 42, 43, 44, 45, 46, 47, 48, 49],\n",
       "       [50, 51, 52, 53, 54, 55, 56, 57, 58, 59],\n",
       "       [60, 61, 62, 63, 64, 65, 66, 67, 68, 69],\n",
       "       [70, 71, 72, 73, 74, 75, 76, 77, 78, 79],\n",
       "       [80, 81, 82, 83, 84, 85, 86, 87, 88, 89],\n",
       "       [90, 91, 92, 93, 94, 95, 96, 97, 98, 99]])"
      ]
     },
     "execution_count": 7,
     "metadata": {},
     "output_type": "execute_result"
    }
   ],
   "source": [
    "y"
   ]
  },
  {
   "cell_type": "code",
   "execution_count": 12,
   "id": "680869c3",
   "metadata": {},
   "outputs": [],
   "source": [
    "z = np.reshape(y,(20,5), order='F')"
   ]
  },
  {
   "cell_type": "code",
   "execution_count": 13,
   "id": "d97878b3",
   "metadata": {},
   "outputs": [
    {
     "data": {
      "text/plain": [
       "array([[ 0,  2,  4,  6,  8],\n",
       "       [10, 12, 14, 16, 18],\n",
       "       [20, 22, 24, 26, 28],\n",
       "       [30, 32, 34, 36, 38],\n",
       "       [40, 42, 44, 46, 48],\n",
       "       [50, 52, 54, 56, 58],\n",
       "       [60, 62, 64, 66, 68],\n",
       "       [70, 72, 74, 76, 78],\n",
       "       [80, 82, 84, 86, 88],\n",
       "       [90, 92, 94, 96, 98],\n",
       "       [ 1,  3,  5,  7,  9],\n",
       "       [11, 13, 15, 17, 19],\n",
       "       [21, 23, 25, 27, 29],\n",
       "       [31, 33, 35, 37, 39],\n",
       "       [41, 43, 45, 47, 49],\n",
       "       [51, 53, 55, 57, 59],\n",
       "       [61, 63, 65, 67, 69],\n",
       "       [71, 73, 75, 77, 79],\n",
       "       [81, 83, 85, 87, 89],\n",
       "       [91, 93, 95, 97, 99]])"
      ]
     },
     "execution_count": 13,
     "metadata": {},
     "output_type": "execute_result"
    }
   ],
   "source": [
    "z"
   ]
  },
  {
   "cell_type": "code",
   "execution_count": 18,
   "id": "7dd49a0d",
   "metadata": {},
   "outputs": [
    {
     "data": {
      "text/plain": [
       "52"
      ]
     },
     "execution_count": 18,
     "metadata": {},
     "output_type": "execute_result"
    }
   ],
   "source": [
    "z[5,3] "
   ]
  },
  {
   "cell_type": "code",
   "execution_count": 19,
   "id": "dcb40c95",
   "metadata": {},
   "outputs": [
    {
     "data": {
      "text/plain": [
       "99"
      ]
     },
     "execution_count": 19,
     "metadata": {},
     "output_type": "execute_result"
    }
   ],
   "source": [
    "z[-1,-1]"
   ]
  },
  {
   "cell_type": "code",
   "execution_count": 37,
   "id": "0fbc3b34",
   "metadata": {},
   "outputs": [],
   "source": [
    "NaturalNumbers = np.reshape(np.array([x for x in range(0,100)]), (10,10), order='A') "
   ]
  },
  {
   "cell_type": "code",
   "execution_count": 38,
   "id": "513b6781",
   "metadata": {},
   "outputs": [
    {
     "data": {
      "text/plain": [
       "array([40, 41, 42, 43, 44, 45, 46, 47, 48, 49])"
      ]
     },
     "execution_count": 38,
     "metadata": {},
     "output_type": "execute_result"
    }
   ],
   "source": [
    "NaturalNumbers[4]"
   ]
  },
  {
   "cell_type": "code",
   "execution_count": 39,
   "id": "e90cb688",
   "metadata": {},
   "outputs": [
    {
     "data": {
      "text/plain": [
       "array([[ 0,  1,  2,  3,  4,  5,  6,  7,  8,  9],\n",
       "       [10, 11, 12, 13, 14, 15, 16, 17, 18, 19],\n",
       "       [20, 21, 22, 23, 24, 25, 26, 27, 28, 29],\n",
       "       [30, 31, 32, 33, 34, 35, 36, 37, 38, 39],\n",
       "       [40, 41, 42, 43, 44, 45, 46, 47, 48, 49],\n",
       "       [50, 51, 52, 53, 54, 55, 56, 57, 58, 59],\n",
       "       [60, 61, 62, 63, 64, 65, 66, 67, 68, 69],\n",
       "       [70, 71, 72, 73, 74, 75, 76, 77, 78, 79],\n",
       "       [80, 81, 82, 83, 84, 85, 86, 87, 88, 89],\n",
       "       [90, 91, 92, 93, 94, 95, 96, 97, 98, 99]])"
      ]
     },
     "execution_count": 39,
     "metadata": {},
     "output_type": "execute_result"
    }
   ],
   "source": [
    "NaturalNumbers"
   ]
  },
  {
   "cell_type": "code",
   "execution_count": 41,
   "id": "5b2becdb",
   "metadata": {},
   "outputs": [],
   "source": [
    "N = NaturalNumbers"
   ]
  },
  {
   "cell_type": "code",
   "execution_count": 43,
   "id": "ab8b2102",
   "metadata": {},
   "outputs": [
    {
     "data": {
      "text/plain": [
       "25"
      ]
     },
     "execution_count": 43,
     "metadata": {},
     "output_type": "execute_result"
    }
   ],
   "source": [
    "N[2,5]"
   ]
  },
  {
   "cell_type": "code",
   "execution_count": 53,
   "id": "157c5366",
   "metadata": {},
   "outputs": [],
   "source": [
    "N = np.reshape(N,(1,100)).tolist()"
   ]
  },
  {
   "cell_type": "code",
   "execution_count": 54,
   "id": "2ed2ad3d",
   "metadata": {},
   "outputs": [
    {
     "name": "stdout",
     "output_type": "stream",
     "text": [
      "[[0, 1, 2, 3, 4, 5, 6, 7, 8, 9, 10, 11, 12, 13, 14, 15, 16, 17, 18, 19, 20, 21, 22, 23, 24, 25, 26, 27, 28, 29, 30, 31, 32, 33, 34, 35, 36, 37, 38, 39, 40, 41, 42, 43, 44, 45, 46, 47, 48, 49, 50, 51, 52, 53, 54, 55, 56, 57, 58, 59, 60, 61, 62, 63, 64, 65, 66, 67, 68, 69, 70, 71, 72, 73, 74, 75, 76, 77, 78, 79, 80, 81, 82, 83, 84, 85, 86, 87, 88, 89, 90, 91, 92, 93, 94, 95, 96, 97, 98, 99]]\n"
     ]
    }
   ],
   "source": [
    "print(N)"
   ]
  },
  {
   "cell_type": "code",
   "execution_count": 55,
   "id": "c036e6f2",
   "metadata": {},
   "outputs": [],
   "source": [
    "Bijection = dict(zip(N[0],N[0]))"
   ]
  },
  {
   "cell_type": "code",
   "execution_count": 57,
   "id": "6056ce41",
   "metadata": {},
   "outputs": [
    {
     "name": "stdout",
     "output_type": "stream",
     "text": [
      "{0: 0, 1: 1, 2: 2, 3: 3, 4: 4, 5: 5, 6: 6, 7: 7, 8: 8, 9: 9, 10: 10, 11: 11, 12: 12, 13: 13, 14: 14, 15: 15, 16: 16, 17: 17, 18: 18, 19: 19, 20: 20, 21: 21, 22: 22, 23: 23, 24: 24, 25: 25, 26: 26, 27: 27, 28: 28, 29: 29, 30: 30, 31: 31, 32: 32, 33: 33, 34: 34, 35: 35, 36: 36, 37: 37, 38: 38, 39: 39, 40: 40, 41: 41, 42: 42, 43: 43, 44: 44, 45: 45, 46: 46, 47: 47, 48: 48, 49: 49, 50: 50, 51: 51, 52: 52, 53: 53, 54: 54, 55: 55, 56: 56, 57: 57, 58: 58, 59: 59, 60: 60, 61: 61, 62: 62, 63: 63, 64: 64, 65: 65, 66: 66, 67: 67, 68: 68, 69: 69, 70: 70, 71: 71, 72: 72, 73: 73, 74: 74, 75: 75, 76: 76, 77: 77, 78: 78, 79: 79, 80: 80, 81: 81, 82: 82, 83: 83, 84: 84, 85: 85, 86: 86, 87: 87, 88: 88, 89: 89, 90: 90, 91: 91, 92: 92, 93: 93, 94: 94, 95: 95, 96: 96, 97: 97, 98: 98, 99: 99} "
     ]
    }
   ],
   "source": [
    "print(Bijection, end=\" \")"
   ]
  },
  {
   "cell_type": "code",
   "execution_count": 58,
   "id": "95ebbb79",
   "metadata": {},
   "outputs": [],
   "source": [
    "f = Bijection"
   ]
  },
  {
   "cell_type": "code",
   "execution_count": 59,
   "id": "4862c8ee",
   "metadata": {},
   "outputs": [
    {
     "data": {
      "text/plain": [
       "5"
      ]
     },
     "execution_count": 59,
     "metadata": {},
     "output_type": "execute_result"
    }
   ],
   "source": [
    "f[5]"
   ]
  },
  {
   "cell_type": "code",
   "execution_count": 60,
   "id": "c0a162bd",
   "metadata": {},
   "outputs": [
    {
     "data": {
      "text/plain": [
       "45"
      ]
     },
     "execution_count": 60,
     "metadata": {},
     "output_type": "execute_result"
    }
   ],
   "source": [
    "f[45]"
   ]
  },
  {
   "cell_type": "code",
   "execution_count": 61,
   "id": "03178194",
   "metadata": {},
   "outputs": [
    {
     "data": {
      "text/plain": [
       "2"
      ]
     },
     "execution_count": 61,
     "metadata": {},
     "output_type": "execute_result"
    }
   ],
   "source": [
    "y.ndim"
   ]
  },
  {
   "cell_type": "code",
   "execution_count": 62,
   "id": "217ee21b",
   "metadata": {},
   "outputs": [
    {
     "data": {
      "text/plain": [
       "(10, 10)"
      ]
     },
     "execution_count": 62,
     "metadata": {},
     "output_type": "execute_result"
    }
   ],
   "source": [
    "y.shape"
   ]
  },
  {
   "cell_type": "code",
   "execution_count": 63,
   "id": "c831c76b",
   "metadata": {},
   "outputs": [
    {
     "data": {
      "text/plain": [
       "100"
      ]
     },
     "execution_count": 63,
     "metadata": {},
     "output_type": "execute_result"
    }
   ],
   "source": [
    "y.size"
   ]
  },
  {
   "cell_type": "code",
   "execution_count": 65,
   "id": "c78a7edd",
   "metadata": {},
   "outputs": [],
   "source": [
    "import matplotlib as plt"
   ]
  },
  {
   "cell_type": "code",
   "execution_count": 66,
   "id": "39931bee",
   "metadata": {},
   "outputs": [],
   "source": [
    "salary = [15946875, 17718750, 19490625, 21262500, 23034375, 24806250,\n",
    "       25244493, 27849149, 30453805, 23500000]"
   ]
  },
  {
   "cell_type": "code",
   "execution_count": 5,
   "id": "99d1738a",
   "metadata": {},
   "outputs": [],
   "source": [
    "KobeBryant_Salary = [15946875,17718750,19490625,21262500,23034375,24806250,25244493,27849149,30453805,23500000]\n",
    "JoeJohnson_Salary = [12000000,12744189,13488377,14232567,14976754,16324500,18038573,19752645,21466718,23180790]\n",
    "LeBronJames_Salary = [4621800,5828090,13041250,14410581,15779912,14500000,16022500,17545000,19067500,20644400]\n",
    "CarmeloAnthony_Salary = [3713640,4694041,13041250,14410581,15779912,17149243,18518574,19450000,22407474,22458000]\n",
    "DwightHoward_Salary = [4493160,4806720,6061274,13758000,15202590,16647180,18091770,19536360,20513178,21436271]\n",
    "ChrisBosh_Salary = [3348000,4235220,12455000,14410581,15779912,14500000,16022500,17545000,19067500,20644400]\n",
    "ChrisPaul_Salary = [3144240,3380160,3615960,4574189,13520500,14940153,16359805,17779458,18668431,20068563]\n",
    "KevinDurant_Salary = [0,0,4171200,4484040,4796880,6053663,15506632,16669630,17832627,18995624]\n",
    "DerrickRose_Salary = [0,0,0,4822800,5184480,5546160,6993708,16402500,17632688,18862875]\n",
    "DwayneWade_Salary = [3031920,3841443,13041250,14410581,15779912,14200000,15691000,17182000,18673000,15000000]\n",
    "\n",
    "#Import numpy\n",
    "import numpy as np\n",
    "\n",
    "#Seasons / year\n",
    "Seasons = [\"2005\",\"2006\",\"2007\",\"2008\",\"2009\",\"2010\",\"2011\",\"2012\",\"2013\",\"2014\"]\n",
    "Sdict = {\"2005\":0,\"2006\":1,\"2007\":2,\"2008\":3,\"2009\":4,\"2010\":5,\"2011\":6,\"2012\":7,\"2013\":8,\"2014\":9}\n",
    "\n",
    "#Players\n",
    "Players = [\"KobeBryant\",\"JoeJohnson\",\"LeBronJames\",\"CarmeloAnthony\",\"DwightHoward\",\"ChrisBosh\",\"ChrisPaul\",\"KevinDurant\",\"DerrickRose\",\"DwayneWade\"]\n",
    "Pdict = {\"KobeBryant\":0,\"JoeJohnson\":1,\"LeBronJames\":2,\"CarmeloAnthony\":3,\"DwightHoward\":4,\"ChrisBosh\":5,\"ChrisPaul\":6,\"KevinDurant\":7,\"DerrickRose\":8,\"DwayneWade\":9}\n",
    "\n",
    "#Salaries\n",
    "KobeBryant_Salary = [15946875,17718750,19490625,21262500,23034375,24806250,25244493,27849149,30453805,23500000]\n",
    "JoeJohnson_Salary = [12000000,12744189,13488377,14232567,14976754,16324500,18038573,19752645,21466718,23180790]\n",
    "LeBronJames_Salary = [4621800,5828090,13041250,14410581,15779912,14500000,16022500,17545000,19067500,20644400]\n",
    "CarmeloAnthony_Salary = [3713640,4694041,13041250,14410581,15779912,17149243,18518574,19450000,22407474,22458000]\n",
    "DwightHoward_Salary = [4493160,4806720,6061274,13758000,15202590,16647180,18091770,19536360,20513178,21436271]\n",
    "ChrisBosh_Salary = [3348000,4235220,12455000,14410581,15779912,14500000,16022500,17545000,19067500,20644400]\n",
    "ChrisPaul_Salary = [3144240,3380160,3615960,4574189,13520500,14940153,16359805,17779458,18668431,20068563]\n",
    "KevinDurant_Salary = [0,0,4171200,4484040,4796880,6053663,15506632,16669630,17832627,18995624]\n",
    "DerrickRose_Salary = [0,0,0,4822800,5184480,5546160,6993708,16402500,17632688,18862875]\n",
    "DwayneWade_Salary = [3031920,3841443,13041250,14410581,15779912,14200000,15691000,17182000,18673000,15000000]\n",
    "#Matrix\n",
    "Salary = np.array([KobeBryant_Salary, JoeJohnson_Salary, LeBronJames_Salary, CarmeloAnthony_Salary, DwightHoward_Salary, ChrisBosh_Salary, ChrisPaul_Salary, KevinDurant_Salary, DerrickRose_Salary, DwayneWade_Salary])\n",
    "\n",
    "#Games \n",
    "KobeBryant_G = [80,77,82,82,73,82,58,78,6,35]\n",
    "JoeJohnson_G = [82,57,82,79,76,72,60,72,79,80]\n",
    "LeBronJames_G = [79,78,75,81,76,79,62,76,77,69]\n",
    "CarmeloAnthony_G = [80,65,77,66,69,77,55,67,77,40]\n",
    "DwightHoward_G = [82,82,82,79,82,78,54,76,71,41]\n",
    "ChrisBosh_G = [70,69,67,77,70,77,57,74,79,44]\n",
    "ChrisPaul_G = [78,64,80,78,45,80,60,70,62,82]\n",
    "KevinDurant_G = [35,35,80,74,82,78,66,81,81,27]\n",
    "DerrickRose_G = [40,40,40,81,78,81,39,0,10,51]\n",
    "DwayneWade_G = [75,51,51,79,77,76,49,69,54,62]\n",
    "#Matrix\n",
    "Games = np.array([KobeBryant_G, JoeJohnson_G, LeBronJames_G, CarmeloAnthony_G, DwightHoward_G, ChrisBosh_G, ChrisPaul_G, KevinDurant_G, DerrickRose_G, DwayneWade_G])\n",
    "\n",
    "#Minutes Played\n",
    "KobeBryant_MP = [3277,3140,3192,2960,2835,2779,2232,3013,177,1207]\n",
    "JoeJohnson_MP = [3340,2359,3343,3124,2886,2554,2127,2642,2575,2791]\n",
    "LeBronJames_MP = [3361,3190,3027,3054,2966,3063,2326,2877,2902,2493]\n",
    "CarmeloAnthony_MP = [2941,2486,2806,2277,2634,2751,1876,2482,2982,1428]\n",
    "DwightHoward_MP = [3021,3023,3088,2821,2843,2935,2070,2722,2396,1223]\n",
    "ChrisBosh_MP = [2751,2658,2425,2928,2526,2795,2007,2454,2531,1556]\n",
    "ChrisPaul_MP = [2808,2353,3006,3002,1712,2880,2181,2335,2171,2857]\n",
    "KevinDurant_MP = [1255,1255,2768,2885,3239,3038,2546,3119,3122,913]\n",
    "DerrickRose_MP = [1168,1168,1168,3000,2871,3026,1375,0,311,1530]\n",
    "DwayneWade_MP = [2892,1931,1954,3048,2792,2823,1625,2391,1775,1971]\n",
    "#Matrix\n",
    "MinutesPlayed = np.array([KobeBryant_MP, JoeJohnson_MP, LeBronJames_MP, CarmeloAnthony_MP, DwightHoward_MP, ChrisBosh_MP, ChrisPaul_MP, KevinDurant_MP, DerrickRose_MP, DwayneWade_MP])\n",
    "\n",
    "#Field Goals\n",
    "KobeBryant_FG = [978,813,775,800,716,740,574,738,31,266]\n",
    "JoeJohnson_FG = [632,536,647,620,635,514,423,445,462,446]\n",
    "LeBronJames_FG = [875,772,794,789,768,758,621,765,767,624]\n",
    "CarmeloAnthony_FG = [756,691,728,535,688,684,441,669,743,358]\n",
    "DwightHoward_FG = [468,526,583,560,510,619,416,470,473,251]\n",
    "ChrisBosh_FG = [549,543,507,615,600,524,393,485,492,343]\n",
    "ChrisPaul_FG = [407,381,630,631,314,430,425,412,406,568]\n",
    "KevinDurant_FG = [306,306,587,661,794,711,643,731,849,238]\n",
    "DerrickRose_FG = [208,208,208,574,672,711,302,0,58,338]\n",
    "DwayneWade_FG = [699,472,439,854,719,692,416,569,415,509]\n",
    "#Matrix\n",
    "FieldGoals  = np.array([KobeBryant_FG, JoeJohnson_FG, LeBronJames_FG, CarmeloAnthony_FG, DwightHoward_FG, ChrisBosh_FG, ChrisPaul_FG, KevinDurant_FG, DerrickRose_FG, DwayneWade_FG])\n",
    "\n",
    "#Field Goal Attempts\n",
    "KobeBryant_FGA = [2173,1757,1690,1712,1569,1639,1336,1595,73,713]\n",
    "JoeJohnson_FGA = [1395,1139,1497,1420,1386,1161,931,1052,1018,1025]\n",
    "LeBronJames_FGA = [1823,1621,1642,1613,1528,1485,1169,1354,1353,1279]\n",
    "CarmeloAnthony_FGA = [1572,1453,1481,1207,1502,1503,1025,1489,1643,806]\n",
    "DwightHoward_FGA = [881,873,974,979,834,1044,726,813,800,423]\n",
    "ChrisBosh_FGA = [1087,1094,1027,1263,1158,1056,807,907,953,745]\n",
    "ChrisPaul_FGA = [947,871,1291,1255,637,928,890,856,870,1170]\n",
    "KevinDurant_FGA = [647,647,1366,1390,1668,1538,1297,1433,1688,467]\n",
    "DerrickRose_FGA = [436,436,436,1208,1373,1597,695,0,164,835]\n",
    "DwayneWade_FGA = [1413,962,937,1739,1511,1384,837,1093,761,1084]\n",
    "#Matrix\n",
    "FieldGoalAttempts = np.array([KobeBryant_FGA, JoeJohnson_FGA, LeBronJames_FGA, CarmeloAnthony_FGA, DwightHoward_FGA, ChrisBosh_FGA, ChrisPaul_FGA, KevinDurant_FGA, DerrickRose_FGA, DwayneWade_FGA])\n",
    "\n",
    "#Points\n",
    "KobeBryant_PTS = [2832,2430,2323,2201,1970,2078,1616,2133,83,782]\n",
    "JoeJohnson_PTS = [1653,1426,1779,1688,1619,1312,1129,1170,1245,1154]\n",
    "LeBronJames_PTS = [2478,2132,2250,2304,2258,2111,1683,2036,2089,1743]\n",
    "CarmeloAnthony_PTS = [2122,1881,1978,1504,1943,1970,1245,1920,2112,966]\n",
    "DwightHoward_PTS = [1292,1443,1695,1624,1503,1784,1113,1296,1297,646]\n",
    "ChrisBosh_PTS = [1572,1561,1496,1746,1678,1438,1025,1232,1281,928]\n",
    "ChrisPaul_PTS = [1258,1104,1684,1781,841,1268,1189,1186,1185,1564]\n",
    "KevinDurant_PTS = [903,903,1624,1871,2472,2161,1850,2280,2593,686]\n",
    "DerrickRose_PTS = [597,597,597,1361,1619,2026,852,0,159,904]\n",
    "DwayneWade_PTS = [2040,1397,1254,2386,2045,1941,1082,1463,1028,1331]\n",
    "#Matrix\n",
    "Points = np.array([KobeBryant_PTS, JoeJohnson_PTS, LeBronJames_PTS, CarmeloAnthony_PTS, DwightHoward_PTS, ChrisBosh_PTS, ChrisPaul_PTS, KevinDurant_PTS, DerrickRose_PTS, DwayneWade_PTS])             \n",
    "                  "
   ]
  },
  {
   "cell_type": "code",
   "execution_count": 2,
   "id": "c3b2dbe9",
   "metadata": {},
   "outputs": [],
   "source": [
    "import matplotlib.pyplot as plt"
   ]
  },
  {
   "cell_type": "code",
   "execution_count": 6,
   "id": "0e282001",
   "metadata": {
    "scrolled": true
   },
   "outputs": [
    {
     "data": {
      "text/plain": [
       "[<matplotlib.lines.Line2D at 0x1b0348259a0>]"
      ]
     },
     "execution_count": 6,
     "metadata": {},
     "output_type": "execute_result"
    },
    {
     "data": {
      "image/png": "[encoded data removed]",
      "text/plain": [
       "<Figure size 432x288 with 1 Axes>"
      ]
     },
     "metadata": {
      "needs_background": "light"
     },
     "output_type": "display_data"
    }
   ],
   "source": [
    "plt.plot(Salary[0],color=\"red\",)"
   ]
  },
  {
   "cell_type": "code",
   "execution_count": 16,
   "id": "f23f7a95",
   "metadata": {},
   "outputs": [
    {
     "data": {
      "text/plain": [
       "[<matplotlib.lines.Line2D at 0x1b039deb490>]"
      ]
     },
     "execution_count": 16,
     "metadata": {},
     "output_type": "execute_result"
    },
    {
     "data": {
      "image/png": "[encoded data removed]",
      "text/plain": [
       "<Figure size 432x288 with 1 Axes>"
      ]
     },
     "metadata": {
      "needs_background": "light"
     },
     "output_type": "display_data"
    }
   ],
   "source": [
    "plt.plot(Salary[1],color='red',marker='.',ms='10',ls='--')"
   ]
  },
  {
   "cell_type": "code",
   "execution_count": 19,
   "id": "446dcde6",
   "metadata": {
    "scrolled": true
   },
   "outputs": [
    {
     "data": {
      "text/plain": [
       "[<matplotlib.lines.Line2D at 0x1b039eefaf0>]"
      ]
     },
     "execution_count": 19,
     "metadata": {},
     "output_type": "execute_result"
    },
    {
     "data": {
      "image/png": "[encoded data removed]",
      "text/plain": [
       "<Figure size 432x288 with 1 Axes>"
      ]
     },
     "metadata": {
      "needs_background": "light"
     },
     "output_type": "display_data"
    }
   ],
   "source": [
    "plt.plot(Salary[0],c='red',marker='.',ls='--')\n",
    "plt.plot(Salary[1],c='green',marker='s',ls='--')\n",
    "plt.plot(Salary[2],c='yellow',marker='^',ls='--')\n",
    "\n",
    "'''\n",
    "Analysis\n",
    "\n",
    "Salary of player 0 has increased with a constant rate (fixed slope) \n",
    "between 0th year and 5th year and then fell by less than 2.5 10^7 during the perid between 5th and 6th year\n",
    "\n",
    "Salary of player 1 has inreased constantly with time, did not fall even once.\n",
    "\n",
    "Salary of player 2 increased by a significant amount during the period of 1st and 2nd year but since then it has not increased much\n",
    "\n",
    "'''"
   ]
  },
  {
   "cell_type": "code",
   "execution_count": 37,
   "id": "cd937018",
   "metadata": {
    "scrolled": true
   },
   "outputs": [
    {
     "name": "stderr",
     "output_type": "stream",
     "text": [
      "No artists with labels found to put in legend.  Note that artists whose label start with an underscore are ignored when legend() is called with no argument.\n"
     ]
    },
    {
     "data": {
      "image/png": "[encoded data removed]",
      "text/plain": [
       "<Figure size 1440x1440 with 1 Axes>"
      ]
     },
     "metadata": {
      "needs_background": "light"
     },
     "output_type": "display_data"
    }
   ],
   "source": [
    "\n",
    "plt.plot(Salary[3],marker='.', c='blue',ms='10',ls='--')\n",
    "plt.plot(Salary[0],marker='o', c='red',ms='10',ls='--')\n",
    "lag = plt.legend()\n",
    "\n",
    "plt.xticks(list(range(0,10)),Seasons,rotation='vertical')\n",
    "plt.rcParams['figure.figsize'] = (20,20)\n",
    "plt.show()"
   ]
  },
  {
   "cell_type": "code",
   "execution_count": 2,
   "id": "9ed558ad",
   "metadata": {},
   "outputs": [],
   "source": [
    "a = np.array(range(0,10))"
   ]
  },
  {
   "cell_type": "code",
   "execution_count": 4,
   "id": "70558fb0",
   "metadata": {},
   "outputs": [
    {
     "data": {
      "text/plain": [
       "array([0, 1, 2, 3, 4, 5, 6, 7, 8, 9])"
      ]
     },
     "execution_count": 4,
     "metadata": {},
     "output_type": "execute_result"
    }
   ],
   "source": [
    "a"
   ]
  },
  {
   "cell_type": "code",
   "execution_count": 5,
   "id": "7ccfbcfe",
   "metadata": {},
   "outputs": [],
   "source": [
    "x = np.array(range(10,20))"
   ]
  },
  {
   "cell_type": "code",
   "execution_count": 6,
   "id": "8381a78e",
   "metadata": {},
   "outputs": [
    {
     "data": {
      "text/plain": [
       "array([10, 11, 12, 13, 14, 15, 16, 17, 18, 19])"
      ]
     },
     "execution_count": 6,
     "metadata": {},
     "output_type": "execute_result"
    }
   ],
   "source": [
    "x"
   ]
  },
  {
   "cell_type": "code",
   "execution_count": 8,
   "id": "b2338674",
   "metadata": {},
   "outputs": [
    {
     "data": {
      "text/plain": [
       "array([10, 11, 12, 13, 14, 15, 16, 17, 18, 19,  0,  1,  2,  3,  4,  5,  6,\n",
       "        7,  8,  9])"
      ]
     },
     "execution_count": 8,
     "metadata": {},
     "output_type": "execute_result"
    }
   ],
   "source": [
    "np.concatenate((x,a),axis=0)"
   ]
  },
  {
   "cell_type": "code",
   "execution_count": 9,
   "id": "56cd5e13",
   "metadata": {},
   "outputs": [
    {
     "data": {
      "text/plain": [
       "array([ 0,  1,  2,  3,  4,  5,  6,  7,  8,  9, 10, 11, 12, 13, 14, 15, 16,\n",
       "       17, 18, 19])"
      ]
     },
     "execution_count": 9,
     "metadata": {},
     "output_type": "execute_result"
    }
   ],
   "source": [
    "np.sort(np.concatenate((x,a),axis=0))"
   ]
  },
  {
   "cell_type": "code",
   "execution_count": 12,
   "id": "1e486673",
   "metadata": {
    "scrolled": true
   },
   "outputs": [
    {
     "data": {
      "text/plain": [
       "(array([ 0.        ,  0.20408163,  0.40816327,  0.6122449 ,  0.81632653,\n",
       "         1.02040816,  1.2244898 ,  1.42857143,  1.63265306,  1.83673469,\n",
       "         2.04081633,  2.24489796,  2.44897959,  2.65306122,  2.85714286,\n",
       "         3.06122449,  3.26530612,  3.46938776,  3.67346939,  3.87755102,\n",
       "         4.08163265,  4.28571429,  4.48979592,  4.69387755,  4.89795918,\n",
       "         5.10204082,  5.30612245,  5.51020408,  5.71428571,  5.91836735,\n",
       "         6.12244898,  6.32653061,  6.53061224,  6.73469388,  6.93877551,\n",
       "         7.14285714,  7.34693878,  7.55102041,  7.75510204,  7.95918367,\n",
       "         8.16326531,  8.36734694,  8.57142857,  8.7755102 ,  8.97959184,\n",
       "         9.18367347,  9.3877551 ,  9.59183673,  9.79591837, 10.        ]),\n",
       " 0.20408163265306123)"
      ]
     },
     "execution_count": 12,
     "metadata": {},
     "output_type": "execute_result"
    }
   ],
   "source": [
    "np.linspace(0,10,retstep=True)"
   ]
  },
  {
   "cell_type": "code",
   "execution_count": 18,
   "id": "f85aed8b",
   "metadata": {},
   "outputs": [],
   "source": [
    "ls = np.linspace(0,10)"
   ]
  },
  {
   "cell_type": "code",
   "execution_count": 19,
   "id": "62b415be",
   "metadata": {},
   "outputs": [
    {
     "data": {
      "text/plain": [
       "array([ 0.        ,  0.20408163,  0.40816327,  0.6122449 ,  0.81632653,\n",
       "        1.02040816,  1.2244898 ,  1.42857143,  1.63265306,  1.83673469,\n",
       "        2.04081633,  2.24489796,  2.44897959,  2.65306122,  2.85714286,\n",
       "        3.06122449,  3.26530612,  3.46938776,  3.67346939,  3.87755102,\n",
       "        4.08163265,  4.28571429,  4.48979592,  4.69387755,  4.89795918,\n",
       "        5.10204082,  5.30612245,  5.51020408,  5.71428571,  5.91836735,\n",
       "        6.12244898,  6.32653061,  6.53061224,  6.73469388,  6.93877551,\n",
       "        7.14285714,  7.34693878,  7.55102041,  7.75510204,  7.95918367,\n",
       "        8.16326531,  8.36734694,  8.57142857,  8.7755102 ,  8.97959184,\n",
       "        9.18367347,  9.3877551 ,  9.59183673,  9.79591837, 10.        ])"
      ]
     },
     "execution_count": 19,
     "metadata": {},
     "output_type": "execute_result"
    }
   ],
   "source": [
    "ls"
   ]
  },
  {
   "cell_type": "code",
   "execution_count": 28,
   "id": "be183270",
   "metadata": {},
   "outputs": [
    {
     "name": "stdout",
     "output_type": "stream",
     "text": [
      "0.20408163265306123\n",
      "0.20408163265306123\n",
      "0.20408163265306123\n",
      "0.20408163265306123\n",
      "0.20408163265306123\n",
      "0.20408163265306123\n",
      "0.20408163265306123\n",
      "0.20408163265306123\n",
      "0.20408163265306123\n",
      "0.20408163265306123\n",
      "0.20408163265306145\n",
      "0.204081632653061\n",
      "0.204081632653061\n",
      "0.20408163265306145\n",
      "0.20408163265306145\n",
      "0.204081632653061\n",
      "0.204081632653061\n",
      "0.20408163265306145\n",
      "0.20408163265306145\n",
      "0.204081632653061\n",
      "0.204081632653061\n",
      "0.2040816326530619\n",
      "0.204081632653061\n",
      "0.204081632653061\n",
      "0.204081632653061\n",
      "0.204081632653061\n",
      "0.2040816326530619\n",
      "0.204081632653061\n",
      "0.204081632653061\n",
      "0.2040816326530619\n",
      "0.204081632653061\n",
      "0.204081632653061\n",
      "0.204081632653061\n",
      "0.204081632653061\n",
      "0.2040816326530619\n",
      "0.204081632653061\n",
      "0.204081632653061\n",
      "0.2040816326530619\n",
      "0.204081632653061\n",
      "0.204081632653061\n",
      "0.204081632653061\n",
      "0.204081632653061\n",
      "0.204081632653061\n",
      "0.20408163265306278\n",
      "0.204081632653061\n",
      "0.204081632653061\n",
      "0.204081632653061\n",
      "0.204081632653061\n",
      "0.204081632653061\n",
      "done\n"
     ]
    }
   ],
   "source": [
    "try: \n",
    "    for i in range(len(ls)):\n",
    "        \n",
    "        print(ls[i+1]-ls[i])\n",
    "except:\n",
    "    print(\"done\")\n",
    "    \n"
   ]
  },
  {
   "cell_type": "code",
   "execution_count": 30,
   "id": "ace1e4aa",
   "metadata": {},
   "outputs": [
    {
     "data": {
      "text/plain": [
       "10"
      ]
     },
     "execution_count": 30,
     "metadata": {},
     "output_type": "execute_result"
    }
   ],
   "source": [
    "a.size"
   ]
  },
  {
   "cell_type": "code",
   "execution_count": 31,
   "id": "cc91e666",
   "metadata": {},
   "outputs": [
    {
     "data": {
      "text/plain": [
       "1"
      ]
     },
     "execution_count": 31,
     "metadata": {},
     "output_type": "execute_result"
    }
   ],
   "source": [
    "a.ndim"
   ]
  },
  {
   "cell_type": "code",
   "execution_count": 32,
   "id": "230122ea",
   "metadata": {},
   "outputs": [
    {
     "data": {
      "text/plain": [
       "array([[0, 1, 2, 3, 4],\n",
       "       [5, 6, 7, 8, 9]])"
      ]
     },
     "execution_count": 32,
     "metadata": {},
     "output_type": "execute_result"
    }
   ],
   "source": [
    "np.reshape(a,newshape=(2,5))"
   ]
  },
  {
   "cell_type": "code",
   "execution_count": 33,
   "id": "482e04c0",
   "metadata": {},
   "outputs": [],
   "source": [
    "a1 = np.expand_dims(a,axis=0)"
   ]
  },
  {
   "cell_type": "code",
   "execution_count": 34,
   "id": "28d3fffe",
   "metadata": {},
   "outputs": [
    {
     "data": {
      "text/plain": [
       "array([[0, 1, 2, 3, 4, 5, 6, 7, 8, 9]])"
      ]
     },
     "execution_count": 34,
     "metadata": {},
     "output_type": "execute_result"
    }
   ],
   "source": [
    "a1"
   ]
  },
  {
   "cell_type": "code",
   "execution_count": 35,
   "id": "6229d19a",
   "metadata": {},
   "outputs": [],
   "source": [
    "a2 = np.expand_dims(a,axis=1)"
   ]
  },
  {
   "cell_type": "code",
   "execution_count": 36,
   "id": "4052c12c",
   "metadata": {},
   "outputs": [
    {
     "data": {
      "text/plain": [
       "array([[0],\n",
       "       [1],\n",
       "       [2],\n",
       "       [3],\n",
       "       [4],\n",
       "       [5],\n",
       "       [6],\n",
       "       [7],\n",
       "       [8],\n",
       "       [9]])"
      ]
     },
     "execution_count": 36,
     "metadata": {},
     "output_type": "execute_result"
    }
   ],
   "source": [
    "a2\n"
   ]
  },
  {
   "cell_type": "code",
   "execution_count": 37,
   "id": "1b3e9f3f",
   "metadata": {},
   "outputs": [
    {
     "data": {
      "text/plain": [
       "array([[0, 0],\n",
       "       [1, 1],\n",
       "       [2, 2],\n",
       "       [3, 3],\n",
       "       [4, 4],\n",
       "       [5, 5],\n",
       "       [6, 6],\n",
       "       [7, 7],\n",
       "       [8, 8],\n",
       "       [9, 9]])"
      ]
     },
     "execution_count": 37,
     "metadata": {},
     "output_type": "execute_result"
    }
   ],
   "source": [
    "np.concatenate((a2,a2) , axis=1)"
   ]
  },
  {
   "cell_type": "code",
   "execution_count": 38,
   "id": "ac5b44db",
   "metadata": {},
   "outputs": [
    {
     "data": {
      "text/plain": [
       "array([[0, 1, 2, 3, 4, 5, 6, 7, 8, 9],\n",
       "       [0, 1, 2, 3, 4, 5, 6, 7, 8, 9]])"
      ]
     },
     "execution_count": 38,
     "metadata": {},
     "output_type": "execute_result"
    }
   ],
   "source": [
    "np.concatenate((a1,a1),axis=0)"
   ]
  },
  {
   "cell_type": "code",
   "execution_count": 39,
   "id": "d33d1f25",
   "metadata": {
    "scrolled": true
   },
   "outputs": [
    {
     "data": {
      "text/plain": [
       "array([[0, 1, 2, 3, 4, 5, 6, 7, 8, 9, 0, 1, 2, 3, 4, 5, 6, 7, 8, 9]])"
      ]
     },
     "execution_count": 39,
     "metadata": {},
     "output_type": "execute_result"
    }
   ],
   "source": [
    "np.concatenate((a1,a1),axis=1)"
   ]
  },
  {
   "cell_type": "code",
   "execution_count": 3,
   "id": "f2342159",
   "metadata": {},
   "outputs": [],
   "source": [
    "a3 = np.array(list(range(0,50)))"
   ]
  },
  {
   "cell_type": "code",
   "execution_count": 6,
   "id": "a55c8e83",
   "metadata": {
    "scrolled": true
   },
   "outputs": [],
   "source": [
    "a3  = np.reshape(a3,(10,5))"
   ]
  },
  {
   "cell_type": "code",
   "execution_count": 7,
   "id": "ce62948b",
   "metadata": {},
   "outputs": [
    {
     "data": {
      "text/plain": [
       "array([[ 0,  1,  2,  3,  4],\n",
       "       [ 5,  6,  7,  8,  9],\n",
       "       [10, 11, 12, 13, 14],\n",
       "       [15, 16, 17, 18, 19],\n",
       "       [20, 21, 22, 23, 24],\n",
       "       [25, 26, 27, 28, 29],\n",
       "       [30, 31, 32, 33, 34],\n",
       "       [35, 36, 37, 38, 39],\n",
       "       [40, 41, 42, 43, 44],\n",
       "       [45, 46, 47, 48, 49]])"
      ]
     },
     "execution_count": 7,
     "metadata": {},
     "output_type": "execute_result"
    }
   ],
   "source": [
    "a3\n"
   ]
  },
  {
   "cell_type": "code",
   "execution_count": 8,
   "id": "ebadedb1",
   "metadata": {},
   "outputs": [
    {
     "data": {
      "text/plain": [
       "array([15, 16, 17, 18, 19])"
      ]
     },
     "execution_count": 8,
     "metadata": {},
     "output_type": "execute_result"
    }
   ],
   "source": [
    "a3[3,:]"
   ]
  },
  {
   "cell_type": "code",
   "execution_count": 9,
   "id": "ec414eea",
   "metadata": {},
   "outputs": [
    {
     "data": {
      "text/plain": [
       "array([ 3,  8, 13, 18, 23, 28, 33, 38, 43, 48])"
      ]
     },
     "execution_count": 9,
     "metadata": {},
     "output_type": "execute_result"
    }
   ],
   "source": [
    "a3[:,3]"
   ]
  },
  {
   "cell_type": "code",
   "execution_count": 12,
   "id": "f2c42bf7",
   "metadata": {},
   "outputs": [],
   "source": [
    "a3[3,:] = [0]*5  #replacing entire row"
   ]
  },
  {
   "cell_type": "code",
   "execution_count": 13,
   "id": "22fb8b0b",
   "metadata": {},
   "outputs": [
    {
     "data": {
      "text/plain": [
       "array([[ 0,  1,  2,  3,  4],\n",
       "       [ 5,  6,  7,  8,  9],\n",
       "       [10, 11, 12, 13, 14],\n",
       "       [ 0,  0,  0,  0,  0],\n",
       "       [20, 21, 22, 23, 24],\n",
       "       [25, 26, 27, 28, 29],\n",
       "       [30, 31, 32, 33, 34],\n",
       "       [35, 36, 37, 38, 39],\n",
       "       [40, 41, 42, 43, 44],\n",
       "       [45, 46, 47, 48, 49]])"
      ]
     },
     "execution_count": 13,
     "metadata": {},
     "output_type": "execute_result"
    }
   ],
   "source": [
    "a3"
   ]
  },
  {
   "cell_type": "code",
   "execution_count": 14,
   "id": "75310bca",
   "metadata": {},
   "outputs": [
    {
     "data": {
      "text/plain": [
       "array([ 2,  7, 12,  0, 22, 27, 32, 37, 42, 47])"
      ]
     },
     "execution_count": 14,
     "metadata": {},
     "output_type": "execute_result"
    }
   ],
   "source": [
    "a3[:,2]"
   ]
  },
  {
   "cell_type": "code",
   "execution_count": 15,
   "id": "e27d94fa",
   "metadata": {},
   "outputs": [],
   "source": [
    "a3[:,2] = [1]*10"
   ]
  },
  {
   "cell_type": "code",
   "execution_count": 16,
   "id": "43426bc7",
   "metadata": {},
   "outputs": [
    {
     "data": {
      "text/plain": [
       "array([[ 0,  1,  1,  3,  4],\n",
       "       [ 5,  6,  1,  8,  9],\n",
       "       [10, 11,  1, 13, 14],\n",
       "       [ 0,  0,  1,  0,  0],\n",
       "       [20, 21,  1, 23, 24],\n",
       "       [25, 26,  1, 28, 29],\n",
       "       [30, 31,  1, 33, 34],\n",
       "       [35, 36,  1, 38, 39],\n",
       "       [40, 41,  1, 43, 44],\n",
       "       [45, 46,  1, 48, 49]])"
      ]
     },
     "execution_count": 16,
     "metadata": {},
     "output_type": "execute_result"
    }
   ],
   "source": [
    "a3"
   ]
  },
  {
   "cell_type": "code",
   "execution_count": 17,
   "id": "24fa0968",
   "metadata": {},
   "outputs": [],
   "source": [
    "a4 = np.expand_dims(a3,axis=2)"
   ]
  },
  {
   "cell_type": "code",
   "execution_count": 18,
   "id": "ae9fad42",
   "metadata": {},
   "outputs": [
    {
     "data": {
      "text/plain": [
       "array([[[ 0],\n",
       "        [ 1],\n",
       "        [ 1],\n",
       "        [ 3],\n",
       "        [ 4]],\n",
       "\n",
       "       [[ 5],\n",
       "        [ 6],\n",
       "        [ 1],\n",
       "        [ 8],\n",
       "        [ 9]],\n",
       "\n",
       "       [[10],\n",
       "        [11],\n",
       "        [ 1],\n",
       "        [13],\n",
       "        [14]],\n",
       "\n",
       "       [[ 0],\n",
       "        [ 0],\n",
       "        [ 1],\n",
       "        [ 0],\n",
       "        [ 0]],\n",
       "\n",
       "       [[20],\n",
       "        [21],\n",
       "        [ 1],\n",
       "        [23],\n",
       "        [24]],\n",
       "\n",
       "       [[25],\n",
       "        [26],\n",
       "        [ 1],\n",
       "        [28],\n",
       "        [29]],\n",
       "\n",
       "       [[30],\n",
       "        [31],\n",
       "        [ 1],\n",
       "        [33],\n",
       "        [34]],\n",
       "\n",
       "       [[35],\n",
       "        [36],\n",
       "        [ 1],\n",
       "        [38],\n",
       "        [39]],\n",
       "\n",
       "       [[40],\n",
       "        [41],\n",
       "        [ 1],\n",
       "        [43],\n",
       "        [44]],\n",
       "\n",
       "       [[45],\n",
       "        [46],\n",
       "        [ 1],\n",
       "        [48],\n",
       "        [49]]])"
      ]
     },
     "execution_count": 18,
     "metadata": {},
     "output_type": "execute_result"
    }
   ],
   "source": [
    "a4\n"
   ]
  },
  {
   "cell_type": "code",
   "execution_count": 22,
   "id": "6a205ad4",
   "metadata": {},
   "outputs": [
    {
     "data": {
      "text/plain": [
       "array([[[ 0,  0],\n",
       "        [ 1,  1],\n",
       "        [ 1,  1],\n",
       "        [ 3,  3],\n",
       "        [ 4,  4]],\n",
       "\n",
       "       [[ 5,  5],\n",
       "        [ 6,  6],\n",
       "        [ 1,  1],\n",
       "        [ 8,  8],\n",
       "        [ 9,  9]],\n",
       "\n",
       "       [[10, 10],\n",
       "        [11, 11],\n",
       "        [ 1,  1],\n",
       "        [13, 13],\n",
       "        [14, 14]],\n",
       "\n",
       "       [[ 0,  0],\n",
       "        [ 0,  0],\n",
       "        [ 1,  1],\n",
       "        [ 0,  0],\n",
       "        [ 0,  0]],\n",
       "\n",
       "       [[20, 20],\n",
       "        [21, 21],\n",
       "        [ 1,  1],\n",
       "        [23, 23],\n",
       "        [24, 24]],\n",
       "\n",
       "       [[25, 25],\n",
       "        [26, 26],\n",
       "        [ 1,  1],\n",
       "        [28, 28],\n",
       "        [29, 29]],\n",
       "\n",
       "       [[30, 30],\n",
       "        [31, 31],\n",
       "        [ 1,  1],\n",
       "        [33, 33],\n",
       "        [34, 34]],\n",
       "\n",
       "       [[35, 35],\n",
       "        [36, 36],\n",
       "        [ 1,  1],\n",
       "        [38, 38],\n",
       "        [39, 39]],\n",
       "\n",
       "       [[40, 40],\n",
       "        [41, 41],\n",
       "        [ 1,  1],\n",
       "        [43, 43],\n",
       "        [44, 44]],\n",
       "\n",
       "       [[45, 45],\n",
       "        [46, 46],\n",
       "        [ 1,  1],\n",
       "        [48, 48],\n",
       "        [49, 49]]])"
      ]
     },
     "execution_count": 22,
     "metadata": {},
     "output_type": "execute_result"
    }
   ],
   "source": [
    "np.concatenate((a4,a4), axis=2)"
   ]
  },
  {
   "cell_type": "code",
   "execution_count": 3,
   "id": "49dc69ce",
   "metadata": {},
   "outputs": [],
   "source": [
    "#print all values less than than k\n",
    "import numpy as np\n",
    "a = np.array(range(0,100))"
   ]
  },
  {
   "cell_type": "code",
   "execution_count": 4,
   "id": "4910ede3",
   "metadata": {
    "scrolled": true
   },
   "outputs": [
    {
     "data": {
      "text/plain": [
       "array([ 0,  1,  2,  3,  4,  5,  6,  7,  8,  9, 10, 11, 12, 13, 14, 15, 16,\n",
       "       17, 18, 19, 20, 21, 22, 23, 24, 25, 26, 27, 28, 29, 30, 31, 32, 33,\n",
       "       34, 35, 36, 37, 38, 39, 40, 41, 42, 43, 44, 45, 46, 47, 48, 49, 50,\n",
       "       51, 52, 53, 54, 55, 56, 57, 58, 59, 60, 61, 62, 63, 64, 65, 66, 67,\n",
       "       68, 69, 70, 71, 72, 73, 74, 75, 76, 77, 78, 79, 80, 81, 82, 83, 84,\n",
       "       85, 86, 87, 88, 89, 90, 91, 92, 93, 94, 95, 96, 97, 98, 99])"
      ]
     },
     "execution_count": 4,
     "metadata": {},
     "output_type": "execute_result"
    }
   ],
   "source": [
    "a"
   ]
  },
  {
   "cell_type": "code",
   "execution_count": 6,
   "id": "f6e3ec77",
   "metadata": {},
   "outputs": [
    {
     "data": {
      "text/plain": [
       "array([ 0,  1,  2,  3,  4,  5,  6,  7,  8,  9, 10, 11, 12, 13, 14, 15, 16,\n",
       "       17, 18, 19, 20, 21, 22, 23, 24, 25, 26, 27, 28, 29, 30, 31, 32, 33,\n",
       "       34, 35, 36, 37, 38, 39, 40, 41, 42, 43, 44, 45, 46, 47, 48, 49, 50,\n",
       "       51, 52, 53, 54, 55, 56, 57, 58, 59])"
      ]
     },
     "execution_count": 6,
     "metadata": {},
     "output_type": "execute_result"
    }
   ],
   "source": [
    "a[a<60]"
   ]
  },
  {
   "cell_type": "code",
   "execution_count": 8,
   "id": "c76c65c2",
   "metadata": {},
   "outputs": [],
   "source": [
    "b = np.reshape(a,(25,4))"
   ]
  },
  {
   "cell_type": "code",
   "execution_count": 9,
   "id": "473295be",
   "metadata": {},
   "outputs": [
    {
     "data": {
      "text/plain": [
       "array([[ 0,  1,  2,  3],\n",
       "       [ 4,  5,  6,  7],\n",
       "       [ 8,  9, 10, 11],\n",
       "       [12, 13, 14, 15],\n",
       "       [16, 17, 18, 19],\n",
       "       [20, 21, 22, 23],\n",
       "       [24, 25, 26, 27],\n",
       "       [28, 29, 30, 31],\n",
       "       [32, 33, 34, 35],\n",
       "       [36, 37, 38, 39],\n",
       "       [40, 41, 42, 43],\n",
       "       [44, 45, 46, 47],\n",
       "       [48, 49, 50, 51],\n",
       "       [52, 53, 54, 55],\n",
       "       [56, 57, 58, 59],\n",
       "       [60, 61, 62, 63],\n",
       "       [64, 65, 66, 67],\n",
       "       [68, 69, 70, 71],\n",
       "       [72, 73, 74, 75],\n",
       "       [76, 77, 78, 79],\n",
       "       [80, 81, 82, 83],\n",
       "       [84, 85, 86, 87],\n",
       "       [88, 89, 90, 91],\n",
       "       [92, 93, 94, 95],\n",
       "       [96, 97, 98, 99]])"
      ]
     },
     "execution_count": 9,
     "metadata": {},
     "output_type": "execute_result"
    }
   ],
   "source": [
    "b"
   ]
  },
  {
   "cell_type": "code",
   "execution_count": 15,
   "id": "fb39db28",
   "metadata": {
    "scrolled": true
   },
   "outputs": [
    {
     "data": {
      "text/plain": [
       "array([ 0,  1,  2,  3,  4,  5,  6,  7,  8,  9, 10, 11, 12, 13, 14, 15, 16,\n",
       "       17, 18, 19, 20, 21, 22, 23, 24, 25, 26, 27, 28, 29, 30, 31, 32, 33,\n",
       "       34, 35, 36, 37, 38, 39])"
      ]
     },
     "execution_count": 15,
     "metadata": {},
     "output_type": "execute_result"
    }
   ],
   "source": [
    "b[b<40]"
   ]
  },
  {
   "cell_type": "code",
   "execution_count": 16,
   "id": "1ba9e99a",
   "metadata": {},
   "outputs": [
    {
     "data": {
      "text/plain": [
       "array([ 0,  2,  4,  6,  8, 10, 12, 14, 16, 18, 20, 22, 24, 26, 28, 30, 32,\n",
       "       34, 36, 38, 40, 42, 44, 46, 48, 50, 52, 54, 56, 58, 60, 62, 64, 66,\n",
       "       68, 70, 72, 74, 76, 78, 80, 82, 84, 86, 88, 90, 92, 94, 96, 98])"
      ]
     },
     "execution_count": 16,
     "metadata": {},
     "output_type": "execute_result"
    }
   ],
   "source": [
    "b[b%2 == 0]"
   ]
  },
  {
   "cell_type": "code",
   "execution_count": 17,
   "id": "293cea67",
   "metadata": {},
   "outputs": [
    {
     "data": {
      "text/plain": [
       "array([ 1,  3,  5,  7,  9, 11, 13, 15, 17, 19, 21, 23, 25, 27, 29, 31, 33,\n",
       "       35, 37, 39, 41, 43, 45, 47, 49, 51, 53, 55, 57, 59, 61, 63, 65, 67,\n",
       "       69, 71, 73, 75, 77, 79, 81, 83, 85, 87, 89, 91, 93, 95, 97, 99])"
      ]
     },
     "execution_count": 17,
     "metadata": {},
     "output_type": "execute_result"
    }
   ],
   "source": [
    "b[b%2 != 0]"
   ]
  },
  {
   "cell_type": "code",
   "execution_count": 25,
   "id": "fdb91e53",
   "metadata": {},
   "outputs": [
    {
     "data": {
      "text/plain": [
       "False"
      ]
     },
     "execution_count": 25,
     "metadata": {},
     "output_type": "execute_result"
    }
   ],
   "source": [
    "b.all()"
   ]
  },
  {
   "cell_type": "code",
   "execution_count": 26,
   "id": "95f27cff",
   "metadata": {},
   "outputs": [
    {
     "data": {
      "text/plain": [
       "array([11, 12, 13, 14, 15, 16, 17, 18, 19, 20, 21, 22, 23, 24, 25, 26, 27,\n",
       "       28, 29, 30, 31, 32, 33, 34, 35, 36, 37, 38, 39, 40, 41, 42, 43, 44,\n",
       "       45, 46, 47, 48, 49])"
      ]
     },
     "execution_count": 26,
     "metadata": {},
     "output_type": "execute_result"
    }
   ],
   "source": [
    "b[(b>10) & (b<50)]"
   ]
  },
  {
   "cell_type": "code",
   "execution_count": 30,
   "id": "15e20a55",
   "metadata": {},
   "outputs": [
    {
     "data": {
      "text/plain": [
       "array([42, 44, 46, 48, 50, 52, 54, 56, 58, 60, 62, 64, 66, 68, 70, 72, 74,\n",
       "       76, 78, 80, 82, 84, 86, 88, 90, 92, 94, 96, 98])"
      ]
     },
     "execution_count": 30,
     "metadata": {},
     "output_type": "execute_result"
    }
   ],
   "source": [
    "b[(b%2 == 0) & (b > 40)]"
   ]
  },
  {
   "cell_type": "code",
   "execution_count": 33,
   "id": "80538b25",
   "metadata": {},
   "outputs": [
    {
     "data": {
      "text/plain": [
       "array([ 0,  2,  4,  6,  8,  9, 10, 12, 14, 16, 18, 20, 22, 24, 26, 27, 28,\n",
       "       30, 32, 34, 36, 38, 40, 42, 44, 45, 46, 48, 50, 52, 54, 56, 58, 60,\n",
       "       62, 63, 64, 66, 68, 70, 72, 74, 76, 78, 80, 81, 82, 84, 86, 88, 90,\n",
       "       92, 94, 96, 98, 99])"
      ]
     },
     "execution_count": 33,
     "metadata": {},
     "output_type": "execute_result"
    }
   ],
   "source": [
    "b[(b%2 == 0) |(b%9 == 0)]"
   ]
  },
  {
   "cell_type": "code",
   "execution_count": 41,
   "id": "e42e87e3",
   "metadata": {},
   "outputs": [],
   "source": [
    "_2dfilter = np.nonzero(b < 20)"
   ]
  },
  {
   "cell_type": "code",
   "execution_count": 43,
   "id": "cb2d89f5",
   "metadata": {
    "scrolled": true
   },
   "outputs": [
    {
     "data": {
      "text/plain": [
       "(array([0, 0, 0, 0, 1, 1, 1, 1, 2, 2, 2, 2, 3, 3, 3, 3, 4, 4, 4, 4],\n",
       "       dtype=int64),\n",
       " array([0, 1, 2, 3, 0, 1, 2, 3, 0, 1, 2, 3, 0, 1, 2, 3, 0, 1, 2, 3],\n",
       "       dtype=int64))"
      ]
     },
     "execution_count": 43,
     "metadata": {},
     "output_type": "execute_result"
    }
   ],
   "source": [
    "_2dfilter"
   ]
  },
  {
   "cell_type": "code",
   "execution_count": 46,
   "id": "f1db376e",
   "metadata": {},
   "outputs": [
    {
     "name": "stdout",
     "output_type": "stream",
     "text": [
      "0, 1, 2, 3, 4, 5, 6, 7, 8, 9, 10, 11, 12, 13, 14, 15, 16, 17, 18, 19, "
     ]
    }
   ],
   "source": [
    "for (i,j) in zip(_2dfilter[0],_2dfilter[1]):\n",
    "    print(b[i][j],end=', ')"
   ]
  },
  {
   "cell_type": "code",
   "execution_count": 47,
   "id": "f4111764",
   "metadata": {
    "scrolled": true
   },
   "outputs": [
    {
     "data": {
      "text/plain": [
       "array([ 0,  1,  2,  3,  4,  5,  6,  7,  8,  9, 10, 11, 12, 13, 14, 15, 16,\n",
       "       17, 18, 19])"
      ]
     },
     "execution_count": 47,
     "metadata": {},
     "output_type": "execute_result"
    }
   ],
   "source": [
    "b[_2dfilter] "
   ]
  },
  {
   "cell_type": "code",
   "execution_count": 51,
   "id": "4beb7836",
   "metadata": {},
   "outputs": [
    {
     "data": {
      "text/plain": [
       "array([[ 0,  1,  2,  3],\n",
       "       [ 4,  5,  6,  7],\n",
       "       [ 8,  9, 10, 11],\n",
       "       [12, 13, 14, 15],\n",
       "       [16, 17, 18, 19],\n",
       "       [20, 21, 22, 23],\n",
       "       [24, 25, 26, 27],\n",
       "       [28, 29, 30, 31],\n",
       "       [32, 33, 34, 35],\n",
       "       [36, 37, 38, 39],\n",
       "       [40, 41, 42, 43],\n",
       "       [44, 45, 46, 47],\n",
       "       [48, 49, 50, 51],\n",
       "       [52, 53, 54, 55],\n",
       "       [56, 57, 58, 59],\n",
       "       [60, 61, 62, 63],\n",
       "       [64, 65, 66, 67],\n",
       "       [68, 69, 70, 71],\n",
       "       [72, 73, 74, 75],\n",
       "       [76, 77, 78, 79],\n",
       "       [80, 81, 82, 83],\n",
       "       [84, 85, 86, 87],\n",
       "       [88, 89, 90, 91],\n",
       "       [92, 93, 94, 95],\n",
       "       [96, 97, 98, 99],\n",
       "       [ 0,  1,  2,  3],\n",
       "       [ 4,  5,  6,  7],\n",
       "       [ 8,  9, 10, 11],\n",
       "       [12, 13, 14, 15],\n",
       "       [16, 17, 18, 19],\n",
       "       [20, 21, 22, 23],\n",
       "       [24, 25, 26, 27],\n",
       "       [28, 29, 30, 31],\n",
       "       [32, 33, 34, 35],\n",
       "       [36, 37, 38, 39],\n",
       "       [40, 41, 42, 43],\n",
       "       [44, 45, 46, 47],\n",
       "       [48, 49, 50, 51],\n",
       "       [52, 53, 54, 55],\n",
       "       [56, 57, 58, 59],\n",
       "       [60, 61, 62, 63],\n",
       "       [64, 65, 66, 67],\n",
       "       [68, 69, 70, 71],\n",
       "       [72, 73, 74, 75],\n",
       "       [76, 77, 78, 79],\n",
       "       [80, 81, 82, 83],\n",
       "       [84, 85, 86, 87],\n",
       "       [88, 89, 90, 91],\n",
       "       [92, 93, 94, 95],\n",
       "       [96, 97, 98, 99]])"
      ]
     },
     "execution_count": 51,
     "metadata": {},
     "output_type": "execute_result"
    }
   ],
   "source": [
    "np.vstack((b,b))"
   ]
  },
  {
   "cell_type": "code",
   "execution_count": 52,
   "id": "d037ab64",
   "metadata": {
    "scrolled": true
   },
   "outputs": [
    {
     "data": {
      "text/plain": [
       "array([[ 0,  1,  2,  3],\n",
       "       [ 4,  5,  6,  7],\n",
       "       [ 8,  9, 10, 11],\n",
       "       [12, 13, 14, 15],\n",
       "       [16, 17, 18, 19],\n",
       "       [20, 21, 22, 23],\n",
       "       [24, 25, 26, 27],\n",
       "       [28, 29, 30, 31],\n",
       "       [32, 33, 34, 35],\n",
       "       [36, 37, 38, 39],\n",
       "       [40, 41, 42, 43],\n",
       "       [44, 45, 46, 47],\n",
       "       [48, 49, 50, 51],\n",
       "       [52, 53, 54, 55],\n",
       "       [56, 57, 58, 59],\n",
       "       [60, 61, 62, 63],\n",
       "       [64, 65, 66, 67],\n",
       "       [68, 69, 70, 71],\n",
       "       [72, 73, 74, 75],\n",
       "       [76, 77, 78, 79],\n",
       "       [80, 81, 82, 83],\n",
       "       [84, 85, 86, 87],\n",
       "       [88, 89, 90, 91],\n",
       "       [92, 93, 94, 95],\n",
       "       [96, 97, 98, 99],\n",
       "       [ 0,  1,  2,  3],\n",
       "       [ 4,  5,  6,  7],\n",
       "       [ 8,  9, 10, 11],\n",
       "       [12, 13, 14, 15],\n",
       "       [16, 17, 18, 19],\n",
       "       [20, 21, 22, 23],\n",
       "       [24, 25, 26, 27],\n",
       "       [28, 29, 30, 31],\n",
       "       [32, 33, 34, 35],\n",
       "       [36, 37, 38, 39],\n",
       "       [40, 41, 42, 43],\n",
       "       [44, 45, 46, 47],\n",
       "       [48, 49, 50, 51],\n",
       "       [52, 53, 54, 55],\n",
       "       [56, 57, 58, 59],\n",
       "       [60, 61, 62, 63],\n",
       "       [64, 65, 66, 67],\n",
       "       [68, 69, 70, 71],\n",
       "       [72, 73, 74, 75],\n",
       "       [76, 77, 78, 79],\n",
       "       [80, 81, 82, 83],\n",
       "       [84, 85, 86, 87],\n",
       "       [88, 89, 90, 91],\n",
       "       [92, 93, 94, 95],\n",
       "       [96, 97, 98, 99],\n",
       "       [ 0,  1,  2,  3],\n",
       "       [ 4,  5,  6,  7],\n",
       "       [ 8,  9, 10, 11],\n",
       "       [12, 13, 14, 15],\n",
       "       [16, 17, 18, 19],\n",
       "       [20, 21, 22, 23],\n",
       "       [24, 25, 26, 27],\n",
       "       [28, 29, 30, 31],\n",
       "       [32, 33, 34, 35],\n",
       "       [36, 37, 38, 39],\n",
       "       [40, 41, 42, 43],\n",
       "       [44, 45, 46, 47],\n",
       "       [48, 49, 50, 51],\n",
       "       [52, 53, 54, 55],\n",
       "       [56, 57, 58, 59],\n",
       "       [60, 61, 62, 63],\n",
       "       [64, 65, 66, 67],\n",
       "       [68, 69, 70, 71],\n",
       "       [72, 73, 74, 75],\n",
       "       [76, 77, 78, 79],\n",
       "       [80, 81, 82, 83],\n",
       "       [84, 85, 86, 87],\n",
       "       [88, 89, 90, 91],\n",
       "       [92, 93, 94, 95],\n",
       "       [96, 97, 98, 99]])"
      ]
     },
     "execution_count": 52,
     "metadata": {},
     "output_type": "execute_result"
    }
   ],
   "source": [
    "np.vstack((b,b,b))"
   ]
  },
  {
   "cell_type": "code",
   "execution_count": 54,
   "id": "0f6ba5ed",
   "metadata": {},
   "outputs": [],
   "source": [
    "c = np.hstack((b,b,b))"
   ]
  },
  {
   "cell_type": "code",
   "execution_count": 55,
   "id": "9f753498",
   "metadata": {},
   "outputs": [
    {
     "data": {
      "text/plain": [
       "array([[ 0,  1,  2,  3,  0,  1,  2,  3,  0,  1,  2,  3],\n",
       "       [ 4,  5,  6,  7,  4,  5,  6,  7,  4,  5,  6,  7],\n",
       "       [ 8,  9, 10, 11,  8,  9, 10, 11,  8,  9, 10, 11],\n",
       "       [12, 13, 14, 15, 12, 13, 14, 15, 12, 13, 14, 15],\n",
       "       [16, 17, 18, 19, 16, 17, 18, 19, 16, 17, 18, 19],\n",
       "       [20, 21, 22, 23, 20, 21, 22, 23, 20, 21, 22, 23],\n",
       "       [24, 25, 26, 27, 24, 25, 26, 27, 24, 25, 26, 27],\n",
       "       [28, 29, 30, 31, 28, 29, 30, 31, 28, 29, 30, 31],\n",
       "       [32, 33, 34, 35, 32, 33, 34, 35, 32, 33, 34, 35],\n",
       "       [36, 37, 38, 39, 36, 37, 38, 39, 36, 37, 38, 39],\n",
       "       [40, 41, 42, 43, 40, 41, 42, 43, 40, 41, 42, 43],\n",
       "       [44, 45, 46, 47, 44, 45, 46, 47, 44, 45, 46, 47],\n",
       "       [48, 49, 50, 51, 48, 49, 50, 51, 48, 49, 50, 51],\n",
       "       [52, 53, 54, 55, 52, 53, 54, 55, 52, 53, 54, 55],\n",
       "       [56, 57, 58, 59, 56, 57, 58, 59, 56, 57, 58, 59],\n",
       "       [60, 61, 62, 63, 60, 61, 62, 63, 60, 61, 62, 63],\n",
       "       [64, 65, 66, 67, 64, 65, 66, 67, 64, 65, 66, 67],\n",
       "       [68, 69, 70, 71, 68, 69, 70, 71, 68, 69, 70, 71],\n",
       "       [72, 73, 74, 75, 72, 73, 74, 75, 72, 73, 74, 75],\n",
       "       [76, 77, 78, 79, 76, 77, 78, 79, 76, 77, 78, 79],\n",
       "       [80, 81, 82, 83, 80, 81, 82, 83, 80, 81, 82, 83],\n",
       "       [84, 85, 86, 87, 84, 85, 86, 87, 84, 85, 86, 87],\n",
       "       [88, 89, 90, 91, 88, 89, 90, 91, 88, 89, 90, 91],\n",
       "       [92, 93, 94, 95, 92, 93, 94, 95, 92, 93, 94, 95],\n",
       "       [96, 97, 98, 99, 96, 97, 98, 99, 96, 97, 98, 99]])"
      ]
     },
     "execution_count": 55,
     "metadata": {},
     "output_type": "execute_result"
    }
   ],
   "source": [
    "c"
   ]
  },
  {
   "cell_type": "code",
   "execution_count": 58,
   "id": "54b1befd",
   "metadata": {
    "scrolled": true
   },
   "outputs": [
    {
     "data": {
      "text/plain": [
       "[array([[ 0,  1,  2],\n",
       "        [ 4,  5,  6],\n",
       "        [ 8,  9, 10],\n",
       "        [12, 13, 14],\n",
       "        [16, 17, 18],\n",
       "        [20, 21, 22],\n",
       "        [24, 25, 26],\n",
       "        [28, 29, 30],\n",
       "        [32, 33, 34],\n",
       "        [36, 37, 38],\n",
       "        [40, 41, 42],\n",
       "        [44, 45, 46],\n",
       "        [48, 49, 50],\n",
       "        [52, 53, 54],\n",
       "        [56, 57, 58],\n",
       "        [60, 61, 62],\n",
       "        [64, 65, 66],\n",
       "        [68, 69, 70],\n",
       "        [72, 73, 74],\n",
       "        [76, 77, 78],\n",
       "        [80, 81, 82],\n",
       "        [84, 85, 86],\n",
       "        [88, 89, 90],\n",
       "        [92, 93, 94],\n",
       "        [96, 97, 98]]),\n",
       " array([], shape=(25, 0), dtype=int32),\n",
       " array([[ 3,  0,  1,  2,  3,  0,  1,  2,  3],\n",
       "        [ 7,  4,  5,  6,  7,  4,  5,  6,  7],\n",
       "        [11,  8,  9, 10, 11,  8,  9, 10, 11],\n",
       "        [15, 12, 13, 14, 15, 12, 13, 14, 15],\n",
       "        [19, 16, 17, 18, 19, 16, 17, 18, 19],\n",
       "        [23, 20, 21, 22, 23, 20, 21, 22, 23],\n",
       "        [27, 24, 25, 26, 27, 24, 25, 26, 27],\n",
       "        [31, 28, 29, 30, 31, 28, 29, 30, 31],\n",
       "        [35, 32, 33, 34, 35, 32, 33, 34, 35],\n",
       "        [39, 36, 37, 38, 39, 36, 37, 38, 39],\n",
       "        [43, 40, 41, 42, 43, 40, 41, 42, 43],\n",
       "        [47, 44, 45, 46, 47, 44, 45, 46, 47],\n",
       "        [51, 48, 49, 50, 51, 48, 49, 50, 51],\n",
       "        [55, 52, 53, 54, 55, 52, 53, 54, 55],\n",
       "        [59, 56, 57, 58, 59, 56, 57, 58, 59],\n",
       "        [63, 60, 61, 62, 63, 60, 61, 62, 63],\n",
       "        [67, 64, 65, 66, 67, 64, 65, 66, 67],\n",
       "        [71, 68, 69, 70, 71, 68, 69, 70, 71],\n",
       "        [75, 72, 73, 74, 75, 72, 73, 74, 75],\n",
       "        [79, 76, 77, 78, 79, 76, 77, 78, 79],\n",
       "        [83, 80, 81, 82, 83, 80, 81, 82, 83],\n",
       "        [87, 84, 85, 86, 87, 84, 85, 86, 87],\n",
       "        [91, 88, 89, 90, 91, 88, 89, 90, 91],\n",
       "        [95, 92, 93, 94, 95, 92, 93, 94, 95],\n",
       "        [99, 96, 97, 98, 99, 96, 97, 98, 99]])]"
      ]
     },
     "execution_count": 58,
     "metadata": {},
     "output_type": "execute_result"
    }
   ],
   "source": [
    "np.hsplit(c,(3,3))"
   ]
  },
  {
   "cell_type": "code",
   "execution_count": 59,
   "id": "85a1e4a2",
   "metadata": {
    "scrolled": true
   },
   "outputs": [
    {
     "data": {
      "text/plain": [
       "[array([[ 0,  1,  2,  3,  0,  1,  2,  3,  0,  1,  2,  3],\n",
       "        [ 4,  5,  6,  7,  4,  5,  6,  7,  4,  5,  6,  7],\n",
       "        [ 8,  9, 10, 11,  8,  9, 10, 11,  8,  9, 10, 11]]),\n",
       " array([], shape=(0, 12), dtype=int32),\n",
       " array([[12, 13, 14, 15, 12, 13, 14, 15, 12, 13, 14, 15],\n",
       "        [16, 17, 18, 19, 16, 17, 18, 19, 16, 17, 18, 19],\n",
       "        [20, 21, 22, 23, 20, 21, 22, 23, 20, 21, 22, 23],\n",
       "        [24, 25, 26, 27, 24, 25, 26, 27, 24, 25, 26, 27],\n",
       "        [28, 29, 30, 31, 28, 29, 30, 31, 28, 29, 30, 31],\n",
       "        [32, 33, 34, 35, 32, 33, 34, 35, 32, 33, 34, 35],\n",
       "        [36, 37, 38, 39, 36, 37, 38, 39, 36, 37, 38, 39],\n",
       "        [40, 41, 42, 43, 40, 41, 42, 43, 40, 41, 42, 43],\n",
       "        [44, 45, 46, 47, 44, 45, 46, 47, 44, 45, 46, 47],\n",
       "        [48, 49, 50, 51, 48, 49, 50, 51, 48, 49, 50, 51],\n",
       "        [52, 53, 54, 55, 52, 53, 54, 55, 52, 53, 54, 55],\n",
       "        [56, 57, 58, 59, 56, 57, 58, 59, 56, 57, 58, 59],\n",
       "        [60, 61, 62, 63, 60, 61, 62, 63, 60, 61, 62, 63],\n",
       "        [64, 65, 66, 67, 64, 65, 66, 67, 64, 65, 66, 67],\n",
       "        [68, 69, 70, 71, 68, 69, 70, 71, 68, 69, 70, 71],\n",
       "        [72, 73, 74, 75, 72, 73, 74, 75, 72, 73, 74, 75],\n",
       "        [76, 77, 78, 79, 76, 77, 78, 79, 76, 77, 78, 79],\n",
       "        [80, 81, 82, 83, 80, 81, 82, 83, 80, 81, 82, 83],\n",
       "        [84, 85, 86, 87, 84, 85, 86, 87, 84, 85, 86, 87],\n",
       "        [88, 89, 90, 91, 88, 89, 90, 91, 88, 89, 90, 91],\n",
       "        [92, 93, 94, 95, 92, 93, 94, 95, 92, 93, 94, 95],\n",
       "        [96, 97, 98, 99, 96, 97, 98, 99, 96, 97, 98, 99]])]"
      ]
     },
     "execution_count": 59,
     "metadata": {},
     "output_type": "execute_result"
    }
   ],
   "source": [
    "np.vsplit(c,(3,3))"
   ]
  },
  {
   "cell_type": "code",
   "execution_count": 60,
   "id": "817de629",
   "metadata": {},
   "outputs": [
    {
     "data": {
      "text/plain": [
       "14850"
      ]
     },
     "execution_count": 60,
     "metadata": {},
     "output_type": "execute_result"
    }
   ],
   "source": [
    "c.sum()"
   ]
  },
  {
   "cell_type": "code",
   "execution_count": 61,
   "id": "0e578d0e",
   "metadata": {},
   "outputs": [],
   "source": [
    "x = np.array(range(0,20)).reshape((10,2))"
   ]
  },
  {
   "cell_type": "code",
   "execution_count": 62,
   "id": "78da377f",
   "metadata": {},
   "outputs": [
    {
     "data": {
      "text/plain": [
       "array([[ 0,  1],\n",
       "       [ 2,  3],\n",
       "       [ 4,  5],\n",
       "       [ 6,  7],\n",
       "       [ 8,  9],\n",
       "       [10, 11],\n",
       "       [12, 13],\n",
       "       [14, 15],\n",
       "       [16, 17],\n",
       "       [18, 19]])"
      ]
     },
     "execution_count": 62,
     "metadata": {},
     "output_type": "execute_result"
    }
   ],
   "source": [
    "x"
   ]
  },
  {
   "cell_type": "code",
   "execution_count": 63,
   "id": "ea43d385",
   "metadata": {},
   "outputs": [],
   "source": [
    "y = np.array(range(20,40)).reshape((10,2))"
   ]
  },
  {
   "cell_type": "code",
   "execution_count": 64,
   "id": "b6fa0869",
   "metadata": {},
   "outputs": [
    {
     "data": {
      "text/plain": [
       "array([[20, 21],\n",
       "       [22, 23],\n",
       "       [24, 25],\n",
       "       [26, 27],\n",
       "       [28, 29],\n",
       "       [30, 31],\n",
       "       [32, 33],\n",
       "       [34, 35],\n",
       "       [36, 37],\n",
       "       [38, 39]])"
      ]
     },
     "execution_count": 64,
     "metadata": {},
     "output_type": "execute_result"
    }
   ],
   "source": [
    "y"
   ]
  },
  {
   "cell_type": "code",
   "execution_count": 65,
   "id": "548b7885",
   "metadata": {},
   "outputs": [
    {
     "data": {
      "text/plain": [
       "array([[20, 22],\n",
       "       [24, 26],\n",
       "       [28, 30],\n",
       "       [32, 34],\n",
       "       [36, 38],\n",
       "       [40, 42],\n",
       "       [44, 46],\n",
       "       [48, 50],\n",
       "       [52, 54],\n",
       "       [56, 58]])"
      ]
     },
     "execution_count": 65,
     "metadata": {},
     "output_type": "execute_result"
    }
   ],
   "source": [
    "x + y"
   ]
  },
  {
   "cell_type": "code",
   "execution_count": 66,
   "id": "9f7e160f",
   "metadata": {},
   "outputs": [
    {
     "data": {
      "text/plain": [
       "array([[  0,  21],\n",
       "       [ 44,  69],\n",
       "       [ 96, 125],\n",
       "       [156, 189],\n",
       "       [224, 261],\n",
       "       [300, 341],\n",
       "       [384, 429],\n",
       "       [476, 525],\n",
       "       [576, 629],\n",
       "       [684, 741]])"
      ]
     },
     "execution_count": 66,
     "metadata": {},
     "output_type": "execute_result"
    }
   ],
   "source": [
    "x * y"
   ]
  },
  {
   "cell_type": "code",
   "execution_count": 67,
   "id": "29993289",
   "metadata": {},
   "outputs": [],
   "source": [
    "y = y.reshape((2,10))"
   ]
  },
  {
   "cell_type": "code",
   "execution_count": 68,
   "id": "b21f9d34",
   "metadata": {},
   "outputs": [
    {
     "data": {
      "text/plain": [
       "array([[20, 21, 22, 23, 24, 25, 26, 27, 28, 29],\n",
       "       [30, 31, 32, 33, 34, 35, 36, 37, 38, 39]])"
      ]
     },
     "execution_count": 68,
     "metadata": {},
     "output_type": "execute_result"
    }
   ],
   "source": [
    "y"
   ]
  },
  {
   "cell_type": "code",
   "execution_count": 71,
   "id": "f300e380",
   "metadata": {},
   "outputs": [
    {
     "data": {
      "text/plain": [
       "array([[ 0,  2],\n",
       "       [ 4,  6],\n",
       "       [ 8, 10],\n",
       "       [12, 14],\n",
       "       [16, 18],\n",
       "       [20, 22],\n",
       "       [24, 26],\n",
       "       [28, 30],\n",
       "       [32, 34],\n",
       "       [36, 38]])"
      ]
     },
     "execution_count": 71,
     "metadata": {},
     "output_type": "execute_result"
    }
   ],
   "source": [
    "x * 2"
   ]
  },
  {
   "cell_type": "code",
   "execution_count": 73,
   "id": "646690ec",
   "metadata": {},
   "outputs": [
    {
     "data": {
      "text/plain": [
       "array([[ 0,  1],\n",
       "       [ 2,  3],\n",
       "       [ 4,  5],\n",
       "       [ 6,  7],\n",
       "       [ 8,  9],\n",
       "       [10, 11],\n",
       "       [12, 13],\n",
       "       [14, 15],\n",
       "       [16, 17],\n",
       "       [18, 19]])"
      ]
     },
     "execution_count": 73,
     "metadata": {},
     "output_type": "execute_result"
    }
   ],
   "source": [
    "x"
   ]
  },
  {
   "cell_type": "code",
   "execution_count": 74,
   "id": "1a8fe12e",
   "metadata": {},
   "outputs": [
    {
     "data": {
      "text/plain": [
       "19"
      ]
     },
     "execution_count": 74,
     "metadata": {},
     "output_type": "execute_result"
    }
   ],
   "source": [
    "x.max()"
   ]
  },
  {
   "cell_type": "code",
   "execution_count": 75,
   "id": "a8c7ff4c",
   "metadata": {},
   "outputs": [
    {
     "data": {
      "text/plain": [
       "array([18, 19])"
      ]
     },
     "execution_count": 75,
     "metadata": {},
     "output_type": "execute_result"
    }
   ],
   "source": [
    "x.max(axis = 0) #search for highest in each column"
   ]
  },
  {
   "cell_type": "code",
   "execution_count": 83,
   "id": "699af424",
   "metadata": {},
   "outputs": [],
   "source": [
    "z = np.array([[1,2,7],[4,9,2],[5,3,6]]) "
   ]
  },
  {
   "cell_type": "code",
   "execution_count": 86,
   "id": "0bbd5fb0",
   "metadata": {},
   "outputs": [
    {
     "data": {
      "text/plain": [
       "array([7, 9, 6])"
      ]
     },
     "execution_count": 86,
     "metadata": {},
     "output_type": "execute_result"
    }
   ],
   "source": [
    "z.max(axis=1) #search for highest in each row"
   ]
  },
  {
   "cell_type": "code",
   "execution_count": 104,
   "id": "9137b787",
   "metadata": {},
   "outputs": [
    {
     "data": {
      "text/plain": [
       "array([1, 2, 3, 4, 5, 6, 7, 9])"
      ]
     },
     "execution_count": 104,
     "metadata": {},
     "output_type": "execute_result"
    }
   ],
   "source": [
    "np.unique(z)"
   ]
  },
  {
   "cell_type": "code",
   "execution_count": 105,
   "id": "c410f3db",
   "metadata": {},
   "outputs": [],
   "source": [
    "unique_val , indices_list = np.unique(a, return_index=True)"
   ]
  },
  {
   "cell_type": "code",
   "execution_count": 107,
   "id": "5f0e2cda",
   "metadata": {},
   "outputs": [
    {
     "data": {
      "text/plain": [
       "array([ 0,  1,  2,  3,  4,  5,  6,  7,  8,  9, 10, 11, 12, 13, 14, 15, 16,\n",
       "       17, 18, 19, 20, 21, 22, 23, 24, 25, 26, 27, 28, 29, 30, 31, 32, 33,\n",
       "       34, 35, 36, 37, 38, 39, 40, 41, 42, 43, 44, 45, 46, 47, 48, 49, 50,\n",
       "       51, 52, 53, 54, 55, 56, 57, 58, 59, 60, 61, 62, 63, 64, 65, 66, 67,\n",
       "       68, 69, 70, 71, 72, 73, 74, 75, 76, 77, 78, 79, 80, 81, 82, 83, 84,\n",
       "       85, 86, 87, 88, 89, 90, 91, 92, 93, 94, 95, 96, 97, 98, 99])"
      ]
     },
     "execution_count": 107,
     "metadata": {},
     "output_type": "execute_result"
    }
   ],
   "source": [
    "unique_val"
   ]
  },
  {
   "cell_type": "code",
   "execution_count": 108,
   "id": "df120265",
   "metadata": {},
   "outputs": [
    {
     "data": {
      "text/plain": [
       "array([ 0,  1,  2,  3,  4,  5,  6,  7,  8,  9, 10, 11, 12, 13, 14, 15, 16,\n",
       "       17, 18, 19, 20, 21, 22, 23, 24, 25, 26, 27, 28, 29, 30, 31, 32, 33,\n",
       "       34, 35, 36, 37, 38, 39, 40, 41, 42, 43, 44, 45, 46, 47, 48, 49, 50,\n",
       "       51, 52, 53, 54, 55, 56, 57, 58, 59, 60, 61, 62, 63, 64, 65, 66, 67,\n",
       "       68, 69, 70, 71, 72, 73, 74, 75, 76, 77, 78, 79, 80, 81, 82, 83, 84,\n",
       "       85, 86, 87, 88, 89, 90, 91, 92, 93, 94, 95, 96, 97, 98, 99],\n",
       "      dtype=int64)"
      ]
     },
     "execution_count": 108,
     "metadata": {},
     "output_type": "execute_result"
    }
   ],
   "source": [
    "indices_list"
   ]
  },
  {
   "cell_type": "code",
   "execution_count": 109,
   "id": "39be7167",
   "metadata": {},
   "outputs": [],
   "source": [
    "uqv = np.unique(b,return_index=True)"
   ]
  },
  {
   "cell_type": "code",
   "execution_count": 110,
   "id": "d47bf7c2",
   "metadata": {},
   "outputs": [
    {
     "data": {
      "text/plain": [
       "(array([ 0,  1,  2,  3,  4,  5,  6,  7,  8,  9, 10, 11, 12, 13, 14, 15, 16,\n",
       "        17, 18, 19, 20, 21, 22, 23, 24, 25, 26, 27, 28, 29, 30, 31, 32, 33,\n",
       "        34, 35, 36, 37, 38, 39, 40, 41, 42, 43, 44, 45, 46, 47, 48, 49, 50,\n",
       "        51, 52, 53, 54, 55, 56, 57, 58, 59, 60, 61, 62, 63, 64, 65, 66, 67,\n",
       "        68, 69, 70, 71, 72, 73, 74, 75, 76, 77, 78, 79, 80, 81, 82, 83, 84,\n",
       "        85, 86, 87, 88, 89, 90, 91, 92, 93, 94, 95, 96, 97, 98, 99]),\n",
       " array([ 0,  1,  2,  3,  4,  5,  6,  7,  8,  9, 10, 11, 12, 13, 14, 15, 16,\n",
       "        17, 18, 19, 20, 21, 22, 23, 24, 25, 26, 27, 28, 29, 30, 31, 32, 33,\n",
       "        34, 35, 36, 37, 38, 39, 40, 41, 42, 43, 44, 45, 46, 47, 48, 49, 50,\n",
       "        51, 52, 53, 54, 55, 56, 57, 58, 59, 60, 61, 62, 63, 64, 65, 66, 67,\n",
       "        68, 69, 70, 71, 72, 73, 74, 75, 76, 77, 78, 79, 80, 81, 82, 83, 84,\n",
       "        85, 86, 87, 88, 89, 90, 91, 92, 93, 94, 95, 96, 97, 98, 99],\n",
       "       dtype=int64))"
      ]
     },
     "execution_count": 110,
     "metadata": {},
     "output_type": "execute_result"
    }
   ],
   "source": [
    "uqv"
   ]
  },
  {
   "cell_type": "code",
   "execution_count": 112,
   "id": "400c1bc0",
   "metadata": {},
   "outputs": [],
   "source": [
    "uqvc = np.unique(x,return_index=True, return_counts=True)"
   ]
  },
  {
   "cell_type": "code",
   "execution_count": 113,
   "id": "3fa857aa",
   "metadata": {},
   "outputs": [
    {
     "data": {
      "text/plain": [
       "(array([ 0,  1,  2,  3,  4,  5,  6,  7,  8,  9, 10, 11, 12, 13, 14, 15, 16,\n",
       "        17, 18, 19]),\n",
       " array([ 0,  1,  2,  3,  4,  5,  6,  7,  8,  9, 10, 11, 12, 13, 14, 15, 16,\n",
       "        17, 18, 19], dtype=int64),\n",
       " array([1, 1, 1, 1, 1, 1, 1, 1, 1, 1, 1, 1, 1, 1, 1, 1, 1, 1, 1, 1],\n",
       "       dtype=int64))"
      ]
     },
     "execution_count": 113,
     "metadata": {},
     "output_type": "execute_result"
    }
   ],
   "source": [
    "uqvc"
   ]
  },
  {
   "cell_type": "code",
   "execution_count": 114,
   "id": "654c6df5",
   "metadata": {},
   "outputs": [
    {
     "data": {
      "text/plain": [
       "array([[ 0,  2,  4,  6,  8, 10, 12, 14, 16, 18],\n",
       "       [ 1,  3,  5,  7,  9, 11, 13, 15, 17, 19]])"
      ]
     },
     "execution_count": 114,
     "metadata": {},
     "output_type": "execute_result"
    }
   ],
   "source": [
    "x.transpose()"
   ]
  },
  {
   "cell_type": "code",
   "execution_count": 117,
   "id": "3bc8677c",
   "metadata": {},
   "outputs": [
    {
     "data": {
      "text/plain": [
       "array([[19, 18],\n",
       "       [17, 16],\n",
       "       [15, 14],\n",
       "       [13, 12],\n",
       "       [11, 10],\n",
       "       [ 9,  8],\n",
       "       [ 7,  6],\n",
       "       [ 5,  4],\n",
       "       [ 3,  2],\n",
       "       [ 1,  0]])"
      ]
     },
     "execution_count": 117,
     "metadata": {},
     "output_type": "execute_result"
    }
   ],
   "source": [
    "#reverse\n",
    "np.flip(x)"
   ]
  },
  {
   "cell_type": "code",
   "execution_count": 119,
   "id": "a2850fd8",
   "metadata": {
    "scrolled": true
   },
   "outputs": [
    {
     "data": {
      "text/plain": [
       "array([[ 1,  0],\n",
       "       [ 3,  2],\n",
       "       [ 5,  4],\n",
       "       [ 7,  6],\n",
       "       [ 9,  8],\n",
       "       [11, 10],\n",
       "       [13, 12],\n",
       "       [15, 14],\n",
       "       [17, 16],\n",
       "       [19, 18]])"
      ]
     },
     "execution_count": 119,
     "metadata": {},
     "output_type": "execute_result"
    }
   ],
   "source": [
    "np.flip(x,axis=1)"
   ]
  },
  {
   "cell_type": "code",
   "execution_count": 2,
   "id": "738fa06f",
   "metadata": {},
   "outputs": [],
   "source": [
    "x = np.array([[1 , 2, 3, 4], [5, 6, 7, 8], [9, 10, 11, 12]])"
   ]
  },
  {
   "cell_type": "code",
   "execution_count": 3,
   "id": "00c20e07",
   "metadata": {},
   "outputs": [
    {
     "data": {
      "text/plain": [
       "array([[ 1,  2,  3,  4],\n",
       "       [ 5,  6,  7,  8],\n",
       "       [ 9, 10, 11, 12]])"
      ]
     },
     "execution_count": 3,
     "metadata": {},
     "output_type": "execute_result"
    }
   ],
   "source": [
    "x"
   ]
  },
  {
   "cell_type": "code",
   "execution_count": 4,
   "id": "13847eec",
   "metadata": {},
   "outputs": [
    {
     "data": {
      "text/plain": [
       "array([ 1,  2,  3,  4,  5,  6,  7,  8,  9, 10, 11, 12])"
      ]
     },
     "execution_count": 4,
     "metadata": {},
     "output_type": "execute_result"
    }
   ],
   "source": [
    "x.flatten()"
   ]
  },
  {
   "cell_type": "code",
   "execution_count": 5,
   "id": "226ef75c",
   "metadata": {},
   "outputs": [
    {
     "data": {
      "text/plain": [
       "array([[ 1,  2,  3,  4],\n",
       "       [ 5,  6,  7,  8],\n",
       "       [ 9, 10, 11, 12]])"
      ]
     },
     "execution_count": 5,
     "metadata": {},
     "output_type": "execute_result"
    }
   ],
   "source": [
    "x"
   ]
  },
  {
   "cell_type": "code",
   "execution_count": 9,
   "id": "e2141ec7",
   "metadata": {},
   "outputs": [],
   "source": [
    "y = x.ravel() #created by using a reference to original array"
   ]
  },
  {
   "cell_type": "code",
   "execution_count": 10,
   "id": "6f3b4749",
   "metadata": {},
   "outputs": [
    {
     "data": {
      "text/plain": [
       "array([ 1,  2,  3,  4,  5,  6,  7,  8,  9, 10, 11, 12])"
      ]
     },
     "execution_count": 10,
     "metadata": {},
     "output_type": "execute_result"
    }
   ],
   "source": [
    "y"
   ]
  },
  {
   "cell_type": "code",
   "execution_count": 11,
   "id": "ee54ecb1",
   "metadata": {},
   "outputs": [],
   "source": [
    "y[2] = 99 #any changes to y also affects the parent array"
   ]
  },
  {
   "cell_type": "code",
   "execution_count": 12,
   "id": "ed70db81",
   "metadata": {},
   "outputs": [
    {
     "data": {
      "text/plain": [
       "array([ 1,  2, 99,  4,  5,  6,  7,  8,  9, 10, 11, 12])"
      ]
     },
     "execution_count": 12,
     "metadata": {},
     "output_type": "execute_result"
    }
   ],
   "source": [
    "y"
   ]
  },
  {
   "cell_type": "code",
   "execution_count": 13,
   "id": "152d60cb",
   "metadata": {},
   "outputs": [
    {
     "data": {
      "text/plain": [
       "array([[ 1,  2, 99,  4],\n",
       "       [ 5,  6,  7,  8],\n",
       "       [ 9, 10, 11, 12]])"
      ]
     },
     "execution_count": 13,
     "metadata": {},
     "output_type": "execute_result"
    }
   ],
   "source": [
    "x"
   ]
  },
  {
   "cell_type": "code",
   "execution_count": 14,
   "id": "ef65234d",
   "metadata": {},
   "outputs": [],
   "source": [
    "x[2,2] = 100"
   ]
  },
  {
   "cell_type": "code",
   "execution_count": 15,
   "id": "32f0b29a",
   "metadata": {},
   "outputs": [
    {
     "data": {
      "text/plain": [
       "array([[  1,   2,  99,   4],\n",
       "       [  5,   6,   7,   8],\n",
       "       [  9,  10, 100,  12]])"
      ]
     },
     "execution_count": 15,
     "metadata": {},
     "output_type": "execute_result"
    }
   ],
   "source": [
    "x"
   ]
  },
  {
   "cell_type": "code",
   "execution_count": 18,
   "id": "d0f1552e",
   "metadata": {},
   "outputs": [],
   "source": [
    "y[-2] = 89"
   ]
  },
  {
   "cell_type": "code",
   "execution_count": 19,
   "id": "a4a62873",
   "metadata": {},
   "outputs": [
    {
     "data": {
      "text/plain": [
       "array([[ 1,  2, 99,  4],\n",
       "       [ 5,  6,  7,  8],\n",
       "       [ 9, 10, 89, 12]])"
      ]
     },
     "execution_count": 19,
     "metadata": {},
     "output_type": "execute_result"
    }
   ],
   "source": [
    "x"
   ]
  },
  {
   "cell_type": "code",
   "execution_count": 20,
   "id": "e169da5e",
   "metadata": {},
   "outputs": [],
   "source": [
    "import matplotlib.pyplot as plt"
   ]
  },
  {
   "cell_type": "code",
   "execution_count": 23,
   "id": "7ac1d2f0",
   "metadata": {},
   "outputs": [],
   "source": [
    "x = np.linspace(0,5,20)"
   ]
  },
  {
   "cell_type": "code",
   "execution_count": 24,
   "id": "82476c7a",
   "metadata": {},
   "outputs": [
    {
     "data": {
      "text/plain": [
       "array([0.        , 0.26315789, 0.52631579, 0.78947368, 1.05263158,\n",
       "       1.31578947, 1.57894737, 1.84210526, 2.10526316, 2.36842105,\n",
       "       2.63157895, 2.89473684, 3.15789474, 3.42105263, 3.68421053,\n",
       "       3.94736842, 4.21052632, 4.47368421, 4.73684211, 5.        ])"
      ]
     },
     "execution_count": 24,
     "metadata": {},
     "output_type": "execute_result"
    }
   ],
   "source": [
    "x"
   ]
  },
  {
   "cell_type": "code",
   "execution_count": 29,
   "id": "c4052109",
   "metadata": {},
   "outputs": [
    {
     "data": {
      "image/png": "[encoded data removed]",
      "text/plain": [
       "<Figure size 720x720 with 1 Axes>"
      ]
     },
     "metadata": {
      "needs_background": "light"
     },
     "output_type": "display_data"
    }
   ],
   "source": [
    "plt1 = plt.plot(x,color='blue',marker='s',ms ='2')\n",
    "plt1= plt.rcParams['figure.figsize'] = (30,10)"
   ]
  },
  {
   "cell_type": "code",
   "execution_count": 32,
   "id": "215878ca",
   "metadata": {},
   "outputs": [],
   "source": [
    "p = np.array([[0,0,0],[10,10,10],[5,5,5],[3,4,5]])"
   ]
  },
  {
   "cell_type": "code",
   "execution_count": 35,
   "id": "eba930e8",
   "metadata": {},
   "outputs": [],
   "source": [
    "q = np.array([2,3,4,5,7,8,9,10])"
   ]
  },
  {
   "cell_type": "code",
   "execution_count": 37,
   "id": "964aad24",
   "metadata": {
    "scrolled": true
   },
   "outputs": [
    {
     "data": {
      "text/plain": [
       "array([[ 2,  2,  2],\n",
       "       [13, 13, 13],\n",
       "       [ 9,  9,  9],\n",
       "       [ 8,  9, 10]])"
      ]
     },
     "execution_count": 37,
     "metadata": {},
     "output_type": "execute_result"
    }
   ],
   "source": [
    "p+np.reshape(q,(4,1)) #q has been broadcasted over p"
   ]
  },
  {
   "cell_type": "code",
   "execution_count": 48,
   "id": "b78728a2",
   "metadata": {
    "scrolled": true
   },
   "outputs": [
    {
     "data": {
      "image/png": "[encoded data removed]",
      "text/plain": [
       "<Figure size 2160x720 with 1 Axes>"
      ]
     },
     "metadata": {
      "needs_background": "light"
     },
     "output_type": "display_data"
    }
   ],
   "source": [
    "plt1 = plt.plot(x,color='blue',marker='s',ms ='2')\n",
    "plt1= plt.rcParams['figure.figsize'] = (30,10)\n",
    "labels = list(np.arange(2000,20))\n",
    "plt1 = plt.xticks(list(range(0,20)),labels)"
   ]
  },
  {
   "cell_type": "code",
   "execution_count": null,
   "id": "780bf6df",
   "metadata": {},
   "outputs": [],
   "source": []
  }
 ],
 "metadata": {
  "kernelspec": {
   "display_name": "Python 3 (ipykernel)",
   "language": "python",
   "name": "python3"
  },
  "language_info": {
   "codemirror_mode": {
    "name": "ipython",
    "version": 3
   },
   "file_extension": ".py",
   "mimetype": "text/x-python",
   "name": "python",
   "nbconvert_exporter": "python",
   "pygments_lexer": "ipython3",
   "version": "3.9.12"
  }
 },
 "nbformat": 4,
 "nbformat_minor": 5
}
