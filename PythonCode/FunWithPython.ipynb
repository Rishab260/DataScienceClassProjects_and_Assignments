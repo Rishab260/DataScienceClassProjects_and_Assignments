{
 "cells": [
  {
   "cell_type": "code",
   "execution_count": 3,
   "id": "1461038c",
   "metadata": {},
   "outputs": [],
   "source": [
    "'''dictionary'''\n",
    "keys = [x for x in range(0,10)]\n",
    "values = [chr(y) for y in range(ord('a'),ord('z')+1)]"
   ]
  },
  {
   "cell_type": "code",
   "execution_count": 5,
   "id": "52145ef5",
   "metadata": {
    "scrolled": true
   },
   "outputs": [
    {
     "data": {
      "text/plain": [
       "['a',\n",
       " 'b',\n",
       " 'c',\n",
       " 'd',\n",
       " 'e',\n",
       " 'f',\n",
       " 'g',\n",
       " 'h',\n",
       " 'i',\n",
       " 'j',\n",
       " 'k',\n",
       " 'l',\n",
       " 'm',\n",
       " 'n',\n",
       " 'o',\n",
       " 'p',\n",
       " 'q',\n",
       " 'r',\n",
       " 's',\n",
       " 't',\n",
       " 'u',\n",
       " 'v',\n",
       " 'w',\n",
       " 'x',\n",
       " 'y',\n",
       " 'z']"
      ]
     },
     "execution_count": 5,
     "metadata": {},
     "output_type": "execute_result"
    }
   ],
   "source": [
    "values"
   ]
  },
  {
   "cell_type": "code",
   "execution_count": 6,
   "id": "26064515",
   "metadata": {
    "scrolled": false
   },
   "outputs": [
    {
     "data": {
      "text/plain": [
       "[0, 1, 2, 3, 4, 5, 6, 7, 8, 9]"
      ]
     },
     "execution_count": 6,
     "metadata": {},
     "output_type": "execute_result"
    }
   ],
   "source": [
    "keys"
   ]
  },
  {
   "cell_type": "code",
   "execution_count": 7,
   "id": "90754de3",
   "metadata": {},
   "outputs": [],
   "source": [
    "dictkv = dict(zip(keys,values))"
   ]
  },
  {
   "cell_type": "code",
   "execution_count": 8,
   "id": "ec4f213a",
   "metadata": {},
   "outputs": [
    {
     "data": {
      "text/plain": [
       "{0: 'a',\n",
       " 1: 'b',\n",
       " 2: 'c',\n",
       " 3: 'd',\n",
       " 4: 'e',\n",
       " 5: 'f',\n",
       " 6: 'g',\n",
       " 7: 'h',\n",
       " 8: 'i',\n",
       " 9: 'j'}"
      ]
     },
     "execution_count": 8,
     "metadata": {},
     "output_type": "execute_result"
    }
   ],
   "source": [
    "dictkv"
   ]
  },
  {
   "cell_type": "code",
   "execution_count": 9,
   "id": "a94a6ab3",
   "metadata": {},
   "outputs": [],
   "source": [
    "dictkl = {key:value for key, value in zip(keys,values)}"
   ]
  },
  {
   "cell_type": "code",
   "execution_count": 10,
   "id": "075cb3c3",
   "metadata": {},
   "outputs": [
    {
     "data": {
      "text/plain": [
       "{0: 'a',\n",
       " 1: 'b',\n",
       " 2: 'c',\n",
       " 3: 'd',\n",
       " 4: 'e',\n",
       " 5: 'f',\n",
       " 6: 'g',\n",
       " 7: 'h',\n",
       " 8: 'i',\n",
       " 9: 'j'}"
      ]
     },
     "execution_count": 10,
     "metadata": {},
     "output_type": "execute_result"
    }
   ],
   "source": [
    "dictkl"
   ]
  },
  {
   "cell_type": "code",
   "execution_count": 18,
   "id": "571e71e0",
   "metadata": {},
   "outputs": [],
   "source": [
    "dictlk = {value:key for value,key in zip(values,keys)}"
   ]
  },
  {
   "cell_type": "code",
   "execution_count": 19,
   "id": "30a54f05",
   "metadata": {},
   "outputs": [
    {
     "data": {
      "text/plain": [
       "{'a': 0,\n",
       " 'b': 1,\n",
       " 'c': 2,\n",
       " 'd': 3,\n",
       " 'e': 4,\n",
       " 'f': 5,\n",
       " 'g': 6,\n",
       " 'h': 7,\n",
       " 'i': 8,\n",
       " 'j': 9}"
      ]
     },
     "execution_count": 19,
     "metadata": {},
     "output_type": "execute_result"
    }
   ],
   "source": [
    "dictlk"
   ]
  },
  {
   "cell_type": "code",
   "execution_count": 21,
   "id": "5595bdb8",
   "metadata": {},
   "outputs": [],
   "source": [
    "dictlk_2 = {k:v*v for k,v in dictlk.items()}"
   ]
  },
  {
   "cell_type": "code",
   "execution_count": 22,
   "id": "cc6c407a",
   "metadata": {},
   "outputs": [
    {
     "data": {
      "text/plain": [
       "{'a': 0,\n",
       " 'b': 1,\n",
       " 'c': 4,\n",
       " 'd': 9,\n",
       " 'e': 16,\n",
       " 'f': 25,\n",
       " 'g': 36,\n",
       " 'h': 49,\n",
       " 'i': 64,\n",
       " 'j': 81}"
      ]
     },
     "execution_count": 22,
     "metadata": {},
     "output_type": "execute_result"
    }
   ],
   "source": [
    "dictlk_2"
   ]
  },
  {
   "cell_type": "code",
   "execution_count": 23,
   "id": "2fe35bbf",
   "metadata": {},
   "outputs": [],
   "source": [
    "sentance = \"This is a sentance\""
   ]
  },
  {
   "cell_type": "code",
   "execution_count": 24,
   "id": "faeff62f",
   "metadata": {},
   "outputs": [],
   "source": [
    "UpperChars = {key:value.upper() for key,value in enumerate(sentance)}"
   ]
  },
  {
   "cell_type": "code",
   "execution_count": 25,
   "id": "0d655852",
   "metadata": {},
   "outputs": [
    {
     "data": {
      "text/plain": [
       "{0: 'T',\n",
       " 1: 'H',\n",
       " 2: 'I',\n",
       " 3: 'S',\n",
       " 4: ' ',\n",
       " 5: 'I',\n",
       " 6: 'S',\n",
       " 7: ' ',\n",
       " 8: 'A',\n",
       " 9: ' ',\n",
       " 10: 'S',\n",
       " 11: 'E',\n",
       " 12: 'N',\n",
       " 13: 'T',\n",
       " 14: 'A',\n",
       " 15: 'N',\n",
       " 16: 'C',\n",
       " 17: 'E'}"
      ]
     },
     "execution_count": 25,
     "metadata": {},
     "output_type": "execute_result"
    }
   ],
   "source": [
    "UpperChars"
   ]
  },
  {
   "cell_type": "code",
   "execution_count": 27,
   "id": "1a82cffe",
   "metadata": {},
   "outputs": [],
   "source": [
    "LowerChars = {key:value.lower() for key, value in enumerate(sentance)}"
   ]
  },
  {
   "cell_type": "code",
   "execution_count": 28,
   "id": "f7e81fa6",
   "metadata": {},
   "outputs": [
    {
     "data": {
      "text/plain": [
       "{0: 't',\n",
       " 1: 'h',\n",
       " 2: 'i',\n",
       " 3: 's',\n",
       " 4: ' ',\n",
       " 5: 'i',\n",
       " 6: 's',\n",
       " 7: ' ',\n",
       " 8: 'a',\n",
       " 9: ' ',\n",
       " 10: 's',\n",
       " 11: 'e',\n",
       " 12: 'n',\n",
       " 13: 't',\n",
       " 14: 'a',\n",
       " 15: 'n',\n",
       " 16: 'c',\n",
       " 17: 'e'}"
      ]
     },
     "execution_count": 28,
     "metadata": {},
     "output_type": "execute_result"
    }
   ],
   "source": [
    "LowerChars"
   ]
  },
  {
   "cell_type": "code",
   "execution_count": 30,
   "id": "2e8707c7",
   "metadata": {},
   "outputs": [],
   "source": [
    "from typing import Dict\n",
    "def Power2(d:dict[str,int]) -> dict[int,int]:\n",
    "    d = {key:val**2 for key,val in d.items() }\n",
    "    return d"
   ]
  },
  {
   "cell_type": "code",
   "execution_count": 32,
   "id": "44d674ad",
   "metadata": {
    "scrolled": true
   },
   "outputs": [
    {
     "data": {
      "text/plain": [
       "{'a': 0,\n",
       " 'b': 1,\n",
       " 'c': 16,\n",
       " 'd': 81,\n",
       " 'e': 256,\n",
       " 'f': 625,\n",
       " 'g': 1296,\n",
       " 'h': 2401,\n",
       " 'i': 4096,\n",
       " 'j': 6561}"
      ]
     },
     "execution_count": 32,
     "metadata": {},
     "output_type": "execute_result"
    }
   ],
   "source": [
    "Power2(dictlk_2)"
   ]
  },
  {
   "cell_type": "code",
   "execution_count": 34,
   "id": "ae0f155c",
   "metadata": {},
   "outputs": [],
   "source": [
    "def Add_KV(d:dict[int,int]) -> dict[int,int]:\n",
    "    d = {k:(k+v) for k,v in d.items()}\n",
    "    return d\n",
    "    \n",
    "    "
   ]
  },
  {
   "cell_type": "code",
   "execution_count": 35,
   "id": "a0ad8f00",
   "metadata": {},
   "outputs": [],
   "source": [
    "d1 = dict(zip(range(0,10),range(0,10)))"
   ]
  },
  {
   "cell_type": "code",
   "execution_count": 36,
   "id": "cf1fbd11",
   "metadata": {},
   "outputs": [
    {
     "data": {
      "text/plain": [
       "{0: 0, 1: 2, 2: 4, 3: 6, 4: 8, 5: 10, 6: 12, 7: 14, 8: 16, 9: 18}"
      ]
     },
     "execution_count": 36,
     "metadata": {},
     "output_type": "execute_result"
    }
   ],
   "source": [
    "Add_KV(d1)"
   ]
  },
  {
   "cell_type": "code",
   "execution_count": 44,
   "id": "887f2bff",
   "metadata": {},
   "outputs": [],
   "source": [
    "#generator\n",
    "\n",
    "def fibonacci(n):\n",
    "    a,b = 0,1\n",
    "    while(a<n):\n",
    "        yield a\n",
    "        a,b =  b,a+b\n"
   ]
  },
  {
   "cell_type": "code",
   "execution_count": 78,
   "id": "4cc90b27",
   "metadata": {},
   "outputs": [],
   "source": [
    "x = fibonacci(6000)\n"
   ]
  },
  {
   "cell_type": "code",
   "execution_count": 86,
   "id": "1ded069a",
   "metadata": {},
   "outputs": [
    {
     "data": {
      "text/plain": [
       "13"
      ]
     },
     "execution_count": 86,
     "metadata": {},
     "output_type": "execute_result"
    }
   ],
   "source": [
    "x.__next__()"
   ]
  },
  {
   "cell_type": "code",
   "execution_count": 1,
   "id": "7d65c854",
   "metadata": {},
   "outputs": [],
   "source": [
    "def print1(*args):\n",
    "    list1 =  [i for i in args]\n",
    "    print(list1)"
   ]
  },
  {
   "cell_type": "code",
   "execution_count": 3,
   "id": "3a42f2c1",
   "metadata": {},
   "outputs": [
    {
     "name": "stdout",
     "output_type": "stream",
     "text": [
      "[1, 2, 3, 4]\n"
     ]
    }
   ],
   "source": [
    "print1(1,2,3,4)"
   ]
  },
  {
   "cell_type": "code",
   "execution_count": 4,
   "id": "296fa82d",
   "metadata": {},
   "outputs": [],
   "source": [
    "def square(*numbers):\n",
    "    print([i*i for i in numbers])\n"
   ]
  },
  {
   "cell_type": "code",
   "execution_count": 5,
   "id": "7dcc2503",
   "metadata": {},
   "outputs": [
    {
     "name": "stdout",
     "output_type": "stream",
     "text": [
      "[1, 4, 9, 16, 25, 36, 49]\n"
     ]
    }
   ],
   "source": [
    "square(1,2,3,4,5,6,7)"
   ]
  },
  {
   "cell_type": "code",
   "execution_count": 11,
   "id": "b5935c9b",
   "metadata": {},
   "outputs": [],
   "source": [
    "def PrintDetails(**studentDetails):\n",
    "    print([key for key in studentDetails.keys()])\n",
    "    print([val for val in studentDetails.values()])\n",
    "    print([(key,val) for key,val in studentDetails.items()])"
   ]
  },
  {
   "cell_type": "code",
   "execution_count": 12,
   "id": "55448b7a",
   "metadata": {},
   "outputs": [
    {
     "name": "stdout",
     "output_type": "stream",
     "text": [
      "['Name', 'Class', 'RollNo']\n",
      "['Rishab', '12', '22']\n",
      "[('Name', 'Rishab'), ('Class', '12'), ('RollNo', '22')]\n"
     ]
    }
   ],
   "source": [
    "PrintDetails(Name = \"Rishab\", Class = \"12\" , RollNo = \"22\")"
   ]
  },
  {
   "cell_type": "code",
   "execution_count": 18,
   "id": "c15e5bf2",
   "metadata": {},
   "outputs": [
    {
     "data": {
      "text/plain": [
       "<filter at 0x14709a3aa00>"
      ]
     },
     "execution_count": 18,
     "metadata": {},
     "output_type": "execute_result"
    }
   ],
   "source": [
    "filter(lambda x: x%2 == 0, list(range(0,10)))"
   ]
  },
  {
   "cell_type": "code",
   "execution_count": 19,
   "id": "d9080f3b",
   "metadata": {},
   "outputs": [
    {
     "data": {
      "text/plain": [
       "[0, 2, 4, 6, 8]"
      ]
     },
     "execution_count": 19,
     "metadata": {},
     "output_type": "execute_result"
    }
   ],
   "source": [
    "list(filter(lambda x: x%2 == 0, list(range(0,10))))"
   ]
  },
  {
   "cell_type": "code",
   "execution_count": 22,
   "id": "033733c4",
   "metadata": {
    "scrolled": true
   },
   "outputs": [
    {
     "data": {
      "text/plain": [
       "['a', 'b', 'b', 'c', 'c', 'c']"
      ]
     },
     "execution_count": 22,
     "metadata": {},
     "output_type": "execute_result"
    }
   ],
   "source": [
    "list(filter(lambda x : x.isalpha(), \"101010abbc01010c01010 c01010\")) #extract characters from lambda"
   ]
  },
  {
   "cell_type": "code",
   "execution_count": 32,
   "id": "30ac5a6a",
   "metadata": {},
   "outputs": [],
   "source": [
    "import random"
   ]
  },
  {
   "cell_type": "code",
   "execution_count": 39,
   "id": "43831469",
   "metadata": {},
   "outputs": [],
   "source": [
    "heights = random.sample(range(5,10),5)"
   ]
  },
  {
   "cell_type": "code",
   "execution_count": 40,
   "id": "8876bf4f",
   "metadata": {
    "scrolled": true
   },
   "outputs": [
    {
     "data": {
      "text/plain": [
       "[8, 6, 9, 7, 5]"
      ]
     },
     "execution_count": 40,
     "metadata": {},
     "output_type": "execute_result"
    }
   ],
   "source": [
    "heights"
   ]
  },
  {
   "cell_type": "code",
   "execution_count": 43,
   "id": "1259aa34",
   "metadata": {},
   "outputs": [],
   "source": [
    "Eligible = list(filter(lambda x: x>6,heights))"
   ]
  },
  {
   "cell_type": "code",
   "execution_count": 44,
   "id": "5458473e",
   "metadata": {
    "scrolled": true
   },
   "outputs": [
    {
     "data": {
      "text/plain": [
       "[8, 9, 7]"
      ]
     },
     "execution_count": 44,
     "metadata": {},
     "output_type": "execute_result"
    }
   ],
   "source": [
    "Eligible"
   ]
  },
  {
   "cell_type": "code",
   "execution_count": 45,
   "id": "358cb2e7",
   "metadata": {},
   "outputs": [],
   "source": [
    "def Even(n):\n",
    "    if(n%2==0):\n",
    "        return True\n",
    "    else:\n",
    "        return False"
   ]
  },
  {
   "cell_type": "code",
   "execution_count": 46,
   "id": "01f9f65e",
   "metadata": {},
   "outputs": [],
   "source": [
    "l = list(range(0,10))"
   ]
  },
  {
   "cell_type": "code",
   "execution_count": 47,
   "id": "49a6bcb6",
   "metadata": {},
   "outputs": [],
   "source": [
    "evens = list(filter(Even,l))"
   ]
  },
  {
   "cell_type": "code",
   "execution_count": 48,
   "id": "9ac06406",
   "metadata": {},
   "outputs": [
    {
     "data": {
      "text/plain": [
       "[0, 2, 4, 6, 8]"
      ]
     },
     "execution_count": 48,
     "metadata": {},
     "output_type": "execute_result"
    }
   ],
   "source": [
    "evens"
   ]
  },
  {
   "cell_type": "code",
   "execution_count": 49,
   "id": "647fbf1b",
   "metadata": {},
   "outputs": [],
   "source": [
    "def square(n):\n",
    "    return n*n;\n"
   ]
  },
  {
   "cell_type": "code",
   "execution_count": 50,
   "id": "2c7349f2",
   "metadata": {},
   "outputs": [],
   "source": [
    "lst = list(range(0,10))"
   ]
  },
  {
   "cell_type": "code",
   "execution_count": 52,
   "id": "2000d95b",
   "metadata": {},
   "outputs": [],
   "source": [
    "lst = list(map(square,lst))"
   ]
  },
  {
   "cell_type": "code",
   "execution_count": 53,
   "id": "78b976f8",
   "metadata": {},
   "outputs": [
    {
     "data": {
      "text/plain": [
       "[0, 1, 4, 9, 16, 25, 36, 49, 64, 81]"
      ]
     },
     "execution_count": 53,
     "metadata": {},
     "output_type": "execute_result"
    }
   ],
   "source": [
    "lst"
   ]
  },
  {
   "cell_type": "code",
   "execution_count": 54,
   "id": "06f12fa8",
   "metadata": {},
   "outputs": [],
   "source": [
    "lst1 =  list(map(lambda x,y:x+y,lst,lst)) #using 2 lists at the same time"
   ]
  },
  {
   "cell_type": "code",
   "execution_count": 55,
   "id": "54b6f9f1",
   "metadata": {},
   "outputs": [
    {
     "data": {
      "text/plain": [
       "[0, 2, 8, 18, 32, 50, 72, 98, 128, 162]"
      ]
     },
     "execution_count": 55,
     "metadata": {},
     "output_type": "execute_result"
    }
   ],
   "source": [
    "lst1"
   ]
  },
  {
   "cell_type": "code",
   "execution_count": 56,
   "id": "9eddf4e8",
   "metadata": {},
   "outputs": [],
   "source": [
    "lst2 = list(map(lambda x,y,z:x*y*z,lst,lst,lst1))"
   ]
  },
  {
   "cell_type": "code",
   "execution_count": 57,
   "id": "5dea8501",
   "metadata": {
    "scrolled": true
   },
   "outputs": [
    {
     "data": {
      "text/plain": [
       "[0, 2, 128, 1458, 8192, 31250, 93312, 235298, 524288, 1062882]"
      ]
     },
     "execution_count": 57,
     "metadata": {},
     "output_type": "execute_result"
    }
   ],
   "source": [
    "lst2"
   ]
  },
  {
   "cell_type": "code",
   "execution_count": 12,
   "id": "5b5443f9",
   "metadata": {},
   "outputs": [],
   "source": [
    "def isSumEven(x,y,z):\n",
    "    print(x,y,z)\n",
    "    if((x+y+z) % 2 == 0):\n",
    "        return True\n",
    "    else:\n",
    "        return False"
   ]
  },
  {
   "cell_type": "code",
   "execution_count": 22,
   "id": "b8b99250",
   "metadata": {},
   "outputs": [],
   "source": [
    "lst3 = list(range(0,5))"
   ]
  },
  {
   "cell_type": "code",
   "execution_count": 8,
   "id": "787e42e1",
   "metadata": {},
   "outputs": [],
   "source": [
    "lst4 = list(range(5,10))"
   ]
  },
  {
   "cell_type": "code",
   "execution_count": 9,
   "id": "cadcce3f",
   "metadata": {},
   "outputs": [],
   "source": [
    "lst5 = list(range(10,15))"
   ]
  },
  {
   "cell_type": "code",
   "execution_count": 13,
   "id": "a3ec665b",
   "metadata": {},
   "outputs": [
    {
     "name": "stdout",
     "output_type": "stream",
     "text": [
      "0 5 10\n",
      "1 6 11\n",
      "2 7 12\n",
      "3 8 13\n",
      "4 9 14\n"
     ]
    }
   ],
   "source": [
    "lstBool = list(map(lambda x,y,z:isSumEven(x,y,z) ,lst3,lst4,lst5))"
   ]
  },
  {
   "cell_type": "code",
   "execution_count": 11,
   "id": "0be70396",
   "metadata": {
    "scrolled": true
   },
   "outputs": [
    {
     "data": {
      "text/plain": [
       "[False, True, False, True, False]"
      ]
     },
     "execution_count": 11,
     "metadata": {},
     "output_type": "execute_result"
    }
   ],
   "source": [
    "lstBool"
   ]
  },
  {
   "cell_type": "code",
   "execution_count": 20,
   "id": "22aabe45",
   "metadata": {},
   "outputs": [],
   "source": [
    "import operator\n",
    "from functools import reduce"
   ]
  },
  {
   "cell_type": "code",
   "execution_count": 25,
   "id": "cc44fa1e",
   "metadata": {},
   "outputs": [],
   "source": [
    "multlist = reduce(operator.mul,[1,2,3])"
   ]
  },
  {
   "cell_type": "code",
   "execution_count": 26,
   "id": "b69bb4e8",
   "metadata": {},
   "outputs": [
    {
     "data": {
      "text/plain": [
       "6"
      ]
     },
     "execution_count": 26,
     "metadata": {},
     "output_type": "execute_result"
    }
   ],
   "source": [
    "multlist"
   ]
  },
  {
   "cell_type": "code",
   "execution_count": 45,
   "id": "ade855cd",
   "metadata": {},
   "outputs": [
    {
     "name": "stdout",
     "output_type": "stream",
     "text": [
      "Rishab\n",
      "Soo Hyun\n"
     ]
    }
   ],
   "source": [
    "class Student:\n",
    "    __marks=0\n",
    "    lover=''\n",
    "        \n",
    "    def __init__(this,name,rollno,marks,lover):\n",
    "        this.name=name\n",
    "        this.rollno=rollno\n",
    "        this.__marks = marks\n",
    "        this.lover = lover\n",
    "    def printName(this):\n",
    "        print(this.name)\n",
    "s = Student(\"Rishab\",78,89,'Soo Hyun')\n",
    "s.printName()\n",
    "#print(s.__marks) private data member cannnot be accessed this wa\n",
    "print(s.lover)"
   ]
  },
  {
   "cell_type": "code",
   "execution_count": 42,
   "id": "92fc85f3",
   "metadata": {},
   "outputs": [],
   "source": [
    "'''Python Decorators'''\n",
    "def AbsoluteValuesOnly(func):\n",
    "    \n",
    "    def wrapper(nums):\n",
    "        for i in range(len(nums)):\n",
    "            nums[i] = abs(nums[i])\n",
    "        return func(nums)\n",
    "    return wrapper\n",
    "            \n",
    "def NoneZero(func):\n",
    "    \n",
    "    def wrapper(lst):\n",
    "        for i in range(len(lst)):\n",
    "            if(lst[i] == 0):\n",
    "                lst[i] = None\n",
    "        return func(lst)\n",
    "    return wrapper"
   ]
  },
  {
   "cell_type": "code",
   "execution_count": 40,
   "id": "6b43e807",
   "metadata": {},
   "outputs": [
    {
     "name": "stdout",
     "output_type": "stream",
     "text": [
      "[1, 2, 3]\n"
     ]
    }
   ],
   "source": [
    "@AbsoluteValuesOnly\n",
    "def Print(lst):\n",
    "    print(lst)\n",
    "\n",
    "Print([-1,-2,-3])"
   ]
  },
  {
   "cell_type": "code",
   "execution_count": 43,
   "id": "d7f4e457",
   "metadata": {},
   "outputs": [
    {
     "name": "stdout",
     "output_type": "stream",
     "text": [
      "[None, None, None, 1, 1, 1, None, None]\n"
     ]
    }
   ],
   "source": [
    "@NoneZero\n",
    "def Calc(lst):\n",
    "    print(lst)\n",
    "\n",
    "Calc([0,0,0,1,1,1,0,0])"
   ]
  }
 ],
 "metadata": {
  "kernelspec": {
   "display_name": "Python 3 (ipykernel)",
   "language": "python",
   "name": "python3"
  },
  "language_info": {
   "codemirror_mode": {
    "name": "ipython",
    "version": 3
   },
   "file_extension": ".py",
   "mimetype": "text/x-python",
   "name": "python",
   "nbconvert_exporter": "python",
   "pygments_lexer": "ipython3",
   "version": "3.9.12"
  }
 },
 "nbformat": 4,
 "nbformat_minor": 5
}
